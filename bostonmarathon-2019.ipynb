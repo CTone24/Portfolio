{
 "cells": [
  {
   "cell_type": "code",
   "execution_count": 1,
   "metadata": {
    "_cell_guid": "b1076dfc-b9ad-4769-8c92-a6c4dae69d19",
    "_uuid": "8f2839f25d086af736a60e9eeb907d3b93b6e0e5",
    "execution": {
     "iopub.execute_input": "2021-03-03T12:23:32.164110Z",
     "iopub.status.busy": "2021-03-03T12:23:32.163464Z",
     "iopub.status.idle": "2021-03-03T12:23:32.180072Z",
     "shell.execute_reply": "2021-03-03T12:23:32.179463Z"
    },
    "papermill": {
     "duration": 0.038224,
     "end_time": "2021-03-03T12:23:32.180291",
     "exception": false,
     "start_time": "2021-03-03T12:23:32.142067",
     "status": "completed"
    },
    "tags": []
   },
   "outputs": [
    {
     "name": "stdout",
     "output_type": "stream",
     "text": [
      "/kaggle/input/boston-marathon-2019/Dataset-Boston-2019.csv\n"
     ]
    }
   ],
   "source": [
    "# This Python 3 environment comes with many helpful analytics libraries installed\n",
    "# It is defined by the kaggle/python Docker image: https://github.com/kaggle/docker-python\n",
    "# For example, here's several helpful packages to load\n",
    "\n",
    "import numpy as np # linear algebra\n",
    "import pandas as pd # data processing, CSV file I/O (e.g. pd.read_csv)\n",
    "\n",
    "# Input data files are available in the read-only \"../input/\" directory\n",
    "# For example, running this (by clicking run or pressing Shift+Enter) will list all files under the input directory\n",
    "\n",
    "import os\n",
    "for dirname, _, filenames in os.walk('/kaggle/input'):\n",
    "    for filename in filenames:\n",
    "        print(os.path.join(dirname, filename))\n",
    "\n",
    "# You can write up to 20GB to the current directory (/kaggle/working/) that gets preserved as output when you create a version using \"Save & Run All\" \n",
    "# You can also write temporary files to /kaggle/temp/, but they won't be saved outside of the current session"
   ]
  },
  {
   "cell_type": "code",
   "execution_count": 2,
   "metadata": {
    "execution": {
     "iopub.execute_input": "2021-03-03T12:23:32.221686Z",
     "iopub.status.busy": "2021-03-03T12:23:32.220856Z",
     "iopub.status.idle": "2021-03-03T12:23:33.064071Z",
     "shell.execute_reply": "2021-03-03T12:23:33.063351Z"
    },
    "papermill": {
     "duration": 0.865319,
     "end_time": "2021-03-03T12:23:33.064246",
     "exception": false,
     "start_time": "2021-03-03T12:23:32.198927",
     "status": "completed"
    },
    "tags": []
   },
   "outputs": [],
   "source": [
    "import matplotlib.pyplot as plt\n",
    "import seaborn as sns\n",
    "import numpy as np\n",
    "import statistics\n",
    "sns.set_theme()"
   ]
  },
  {
   "cell_type": "code",
   "execution_count": 3,
   "metadata": {
    "execution": {
     "iopub.execute_input": "2021-03-03T12:23:33.105844Z",
     "iopub.status.busy": "2021-03-03T12:23:33.105043Z",
     "iopub.status.idle": "2021-03-03T12:23:33.200448Z",
     "shell.execute_reply": "2021-03-03T12:23:33.199916Z"
    },
    "papermill": {
     "duration": 0.118159,
     "end_time": "2021-03-03T12:23:33.200597",
     "exception": false,
     "start_time": "2021-03-03T12:23:33.082438",
     "status": "completed"
    },
    "tags": []
   },
   "outputs": [
    {
     "data": {
      "text/html": [
       "<div>\n",
       "<style scoped>\n",
       "    .dataframe tbody tr th:only-of-type {\n",
       "        vertical-align: middle;\n",
       "    }\n",
       "\n",
       "    .dataframe tbody tr th {\n",
       "        vertical-align: top;\n",
       "    }\n",
       "\n",
       "    .dataframe thead th {\n",
       "        text-align: right;\n",
       "    }\n",
       "</style>\n",
       "<table border=\"1\" class=\"dataframe\">\n",
       "  <thead>\n",
       "    <tr style=\"text-align: right;\">\n",
       "      <th></th>\n",
       "      <th>Age</th>\n",
       "      <th>Gender</th>\n",
       "      <th>Country</th>\n",
       "      <th>Result_hr</th>\n",
       "      <th>Result_sec</th>\n",
       "      <th>Rank_Gender</th>\n",
       "      <th>Country_code</th>\n",
       "    </tr>\n",
       "    <tr>\n",
       "      <th>Rank_Tot</th>\n",
       "      <th></th>\n",
       "      <th></th>\n",
       "      <th></th>\n",
       "      <th></th>\n",
       "      <th></th>\n",
       "      <th></th>\n",
       "      <th></th>\n",
       "    </tr>\n",
       "  </thead>\n",
       "  <tbody>\n",
       "    <tr>\n",
       "      <th>1</th>\n",
       "      <td>30</td>\n",
       "      <td>M</td>\n",
       "      <td>Kenya</td>\n",
       "      <td>2:07:57</td>\n",
       "      <td>7677</td>\n",
       "      <td>1</td>\n",
       "      <td>KEN</td>\n",
       "    </tr>\n",
       "    <tr>\n",
       "      <th>2</th>\n",
       "      <td>29</td>\n",
       "      <td>M</td>\n",
       "      <td>Ethiopia</td>\n",
       "      <td>2:07:59</td>\n",
       "      <td>7679</td>\n",
       "      <td>2</td>\n",
       "      <td>ETH</td>\n",
       "    </tr>\n",
       "    <tr>\n",
       "      <th>3</th>\n",
       "      <td>34</td>\n",
       "      <td>M</td>\n",
       "      <td>Kenya</td>\n",
       "      <td>2:08:07</td>\n",
       "      <td>7687</td>\n",
       "      <td>3</td>\n",
       "      <td>KEN</td>\n",
       "    </tr>\n",
       "    <tr>\n",
       "      <th>4</th>\n",
       "      <td>32</td>\n",
       "      <td>M</td>\n",
       "      <td>Kenya</td>\n",
       "      <td>2:08:54</td>\n",
       "      <td>7734</td>\n",
       "      <td>4</td>\n",
       "      <td>KEN</td>\n",
       "    </tr>\n",
       "    <tr>\n",
       "      <th>5</th>\n",
       "      <td>26</td>\n",
       "      <td>M</td>\n",
       "      <td>Kenya</td>\n",
       "      <td>2:08:55</td>\n",
       "      <td>7735</td>\n",
       "      <td>5</td>\n",
       "      <td>KEN</td>\n",
       "    </tr>\n",
       "    <tr>\n",
       "      <th>...</th>\n",
       "      <td>...</td>\n",
       "      <td>...</td>\n",
       "      <td>...</td>\n",
       "      <td>...</td>\n",
       "      <td>...</td>\n",
       "      <td>...</td>\n",
       "      <td>...</td>\n",
       "    </tr>\n",
       "    <tr>\n",
       "      <th>26640</th>\n",
       "      <td>44</td>\n",
       "      <td>F</td>\n",
       "      <td>United States</td>\n",
       "      <td>6:21:19</td>\n",
       "      <td>22879</td>\n",
       "      <td>11977</td>\n",
       "      <td>USA</td>\n",
       "    </tr>\n",
       "    <tr>\n",
       "      <th>26641</th>\n",
       "      <td>50</td>\n",
       "      <td>F</td>\n",
       "      <td>United States</td>\n",
       "      <td>6:22:27</td>\n",
       "      <td>22947</td>\n",
       "      <td>11978</td>\n",
       "      <td>USA</td>\n",
       "    </tr>\n",
       "    <tr>\n",
       "      <th>26648</th>\n",
       "      <td>32</td>\n",
       "      <td>F</td>\n",
       "      <td>United States</td>\n",
       "      <td>6:35:50</td>\n",
       "      <td>23750</td>\n",
       "      <td>11979</td>\n",
       "      <td>USA</td>\n",
       "    </tr>\n",
       "    <tr>\n",
       "      <th>26650</th>\n",
       "      <td>55</td>\n",
       "      <td>F</td>\n",
       "      <td>United States</td>\n",
       "      <td>6:53:38</td>\n",
       "      <td>24818</td>\n",
       "      <td>11980</td>\n",
       "      <td>USA</td>\n",
       "    </tr>\n",
       "    <tr>\n",
       "      <th>26652</th>\n",
       "      <td>46</td>\n",
       "      <td>F</td>\n",
       "      <td>United States</td>\n",
       "      <td>6:59:57</td>\n",
       "      <td>25197</td>\n",
       "      <td>11981</td>\n",
       "      <td>USA</td>\n",
       "    </tr>\n",
       "  </tbody>\n",
       "</table>\n",
       "<p>26651 rows × 7 columns</p>\n",
       "</div>"
      ],
      "text/plain": [
       "          Age Gender        Country Result_hr  Result_sec  Rank_Gender  \\\n",
       "Rank_Tot                                                                 \n",
       "1          30      M          Kenya   2:07:57        7677            1   \n",
       "2          29      M       Ethiopia   2:07:59        7679            2   \n",
       "3          34      M          Kenya   2:08:07        7687            3   \n",
       "4          32      M          Kenya   2:08:54        7734            4   \n",
       "5          26      M          Kenya   2:08:55        7735            5   \n",
       "...       ...    ...            ...       ...         ...          ...   \n",
       "26640      44      F  United States   6:21:19       22879        11977   \n",
       "26641      50      F  United States   6:22:27       22947        11978   \n",
       "26648      32      F  United States   6:35:50       23750        11979   \n",
       "26650      55      F  United States   6:53:38       24818        11980   \n",
       "26652      46      F  United States   6:59:57       25197        11981   \n",
       "\n",
       "         Country_code  \n",
       "Rank_Tot               \n",
       "1                 KEN  \n",
       "2                 ETH  \n",
       "3                 KEN  \n",
       "4                 KEN  \n",
       "5                 KEN  \n",
       "...               ...  \n",
       "26640             USA  \n",
       "26641             USA  \n",
       "26648             USA  \n",
       "26650             USA  \n",
       "26652             USA  \n",
       "\n",
       "[26651 rows x 7 columns]"
      ]
     },
     "execution_count": 3,
     "metadata": {},
     "output_type": "execute_result"
    }
   ],
   "source": [
    "df = pd.read_csv('../input/boston-marathon-2019/Dataset-Boston-2019.csv', index_col = 'Rank_Tot')\n",
    "df"
   ]
  },
  {
   "cell_type": "markdown",
   "metadata": {
    "papermill": {
     "duration": 0.018465,
     "end_time": "2021-03-03T12:23:33.237883",
     "exception": false,
     "start_time": "2021-03-03T12:23:33.219418",
     "status": "completed"
    },
    "tags": []
   },
   "source": [
    "**Convert Result-hr column to datetime object**"
   ]
  },
  {
   "cell_type": "code",
   "execution_count": 4,
   "metadata": {
    "execution": {
     "iopub.execute_input": "2021-03-03T12:23:33.319555Z",
     "iopub.status.busy": "2021-03-03T12:23:33.314187Z",
     "iopub.status.idle": "2021-03-03T12:23:34.625504Z",
     "shell.execute_reply": "2021-03-03T12:23:34.624898Z"
    },
    "papermill": {
     "duration": 1.369155,
     "end_time": "2021-03-03T12:23:34.625650",
     "exception": false,
     "start_time": "2021-03-03T12:23:33.256495",
     "status": "completed"
    },
    "tags": []
   },
   "outputs": [],
   "source": [
    "df['Result_hr'] = pd.to_datetime(df['Result_hr']).dt.time"
   ]
  },
  {
   "cell_type": "code",
   "execution_count": 5,
   "metadata": {
    "execution": {
     "iopub.execute_input": "2021-03-03T12:23:34.677989Z",
     "iopub.status.busy": "2021-03-03T12:23:34.677059Z",
     "iopub.status.idle": "2021-03-03T12:23:34.688461Z",
     "shell.execute_reply": "2021-03-03T12:23:34.688999Z"
    },
    "papermill": {
     "duration": 0.044632,
     "end_time": "2021-03-03T12:23:34.689188",
     "exception": false,
     "start_time": "2021-03-03T12:23:34.644556",
     "status": "completed"
    },
    "tags": []
   },
   "outputs": [
    {
     "data": {
      "text/html": [
       "<div>\n",
       "<style scoped>\n",
       "    .dataframe tbody tr th:only-of-type {\n",
       "        vertical-align: middle;\n",
       "    }\n",
       "\n",
       "    .dataframe tbody tr th {\n",
       "        vertical-align: top;\n",
       "    }\n",
       "\n",
       "    .dataframe thead th {\n",
       "        text-align: right;\n",
       "    }\n",
       "</style>\n",
       "<table border=\"1\" class=\"dataframe\">\n",
       "  <thead>\n",
       "    <tr style=\"text-align: right;\">\n",
       "      <th></th>\n",
       "      <th>Age</th>\n",
       "      <th>Gender</th>\n",
       "      <th>Rank_Gender</th>\n",
       "      <th>Country</th>\n",
       "      <th>Country_code</th>\n",
       "      <th>Result_hr</th>\n",
       "      <th>Result_sec</th>\n",
       "    </tr>\n",
       "    <tr>\n",
       "      <th>Rank_Tot</th>\n",
       "      <th></th>\n",
       "      <th></th>\n",
       "      <th></th>\n",
       "      <th></th>\n",
       "      <th></th>\n",
       "      <th></th>\n",
       "      <th></th>\n",
       "    </tr>\n",
       "  </thead>\n",
       "  <tbody>\n",
       "    <tr>\n",
       "      <th>1</th>\n",
       "      <td>30</td>\n",
       "      <td>M</td>\n",
       "      <td>1</td>\n",
       "      <td>Kenya</td>\n",
       "      <td>KEN</td>\n",
       "      <td>02:07:57</td>\n",
       "      <td>7677</td>\n",
       "    </tr>\n",
       "    <tr>\n",
       "      <th>2</th>\n",
       "      <td>29</td>\n",
       "      <td>M</td>\n",
       "      <td>2</td>\n",
       "      <td>Ethiopia</td>\n",
       "      <td>ETH</td>\n",
       "      <td>02:07:59</td>\n",
       "      <td>7679</td>\n",
       "    </tr>\n",
       "    <tr>\n",
       "      <th>3</th>\n",
       "      <td>34</td>\n",
       "      <td>M</td>\n",
       "      <td>3</td>\n",
       "      <td>Kenya</td>\n",
       "      <td>KEN</td>\n",
       "      <td>02:08:07</td>\n",
       "      <td>7687</td>\n",
       "    </tr>\n",
       "    <tr>\n",
       "      <th>4</th>\n",
       "      <td>32</td>\n",
       "      <td>M</td>\n",
       "      <td>4</td>\n",
       "      <td>Kenya</td>\n",
       "      <td>KEN</td>\n",
       "      <td>02:08:54</td>\n",
       "      <td>7734</td>\n",
       "    </tr>\n",
       "    <tr>\n",
       "      <th>5</th>\n",
       "      <td>26</td>\n",
       "      <td>M</td>\n",
       "      <td>5</td>\n",
       "      <td>Kenya</td>\n",
       "      <td>KEN</td>\n",
       "      <td>02:08:55</td>\n",
       "      <td>7735</td>\n",
       "    </tr>\n",
       "    <tr>\n",
       "      <th>...</th>\n",
       "      <td>...</td>\n",
       "      <td>...</td>\n",
       "      <td>...</td>\n",
       "      <td>...</td>\n",
       "      <td>...</td>\n",
       "      <td>...</td>\n",
       "      <td>...</td>\n",
       "    </tr>\n",
       "    <tr>\n",
       "      <th>26640</th>\n",
       "      <td>44</td>\n",
       "      <td>F</td>\n",
       "      <td>11977</td>\n",
       "      <td>United States</td>\n",
       "      <td>USA</td>\n",
       "      <td>06:21:19</td>\n",
       "      <td>22879</td>\n",
       "    </tr>\n",
       "    <tr>\n",
       "      <th>26641</th>\n",
       "      <td>50</td>\n",
       "      <td>F</td>\n",
       "      <td>11978</td>\n",
       "      <td>United States</td>\n",
       "      <td>USA</td>\n",
       "      <td>06:22:27</td>\n",
       "      <td>22947</td>\n",
       "    </tr>\n",
       "    <tr>\n",
       "      <th>26648</th>\n",
       "      <td>32</td>\n",
       "      <td>F</td>\n",
       "      <td>11979</td>\n",
       "      <td>United States</td>\n",
       "      <td>USA</td>\n",
       "      <td>06:35:50</td>\n",
       "      <td>23750</td>\n",
       "    </tr>\n",
       "    <tr>\n",
       "      <th>26650</th>\n",
       "      <td>55</td>\n",
       "      <td>F</td>\n",
       "      <td>11980</td>\n",
       "      <td>United States</td>\n",
       "      <td>USA</td>\n",
       "      <td>06:53:38</td>\n",
       "      <td>24818</td>\n",
       "    </tr>\n",
       "    <tr>\n",
       "      <th>26652</th>\n",
       "      <td>46</td>\n",
       "      <td>F</td>\n",
       "      <td>11981</td>\n",
       "      <td>United States</td>\n",
       "      <td>USA</td>\n",
       "      <td>06:59:57</td>\n",
       "      <td>25197</td>\n",
       "    </tr>\n",
       "  </tbody>\n",
       "</table>\n",
       "<p>26651 rows × 7 columns</p>\n",
       "</div>"
      ],
      "text/plain": [
       "          Age Gender  Rank_Gender        Country Country_code Result_hr  \\\n",
       "Rank_Tot                                                                  \n",
       "1          30      M            1          Kenya          KEN  02:07:57   \n",
       "2          29      M            2       Ethiopia          ETH  02:07:59   \n",
       "3          34      M            3          Kenya          KEN  02:08:07   \n",
       "4          32      M            4          Kenya          KEN  02:08:54   \n",
       "5          26      M            5          Kenya          KEN  02:08:55   \n",
       "...       ...    ...          ...            ...          ...       ...   \n",
       "26640      44      F        11977  United States          USA  06:21:19   \n",
       "26641      50      F        11978  United States          USA  06:22:27   \n",
       "26648      32      F        11979  United States          USA  06:35:50   \n",
       "26650      55      F        11980  United States          USA  06:53:38   \n",
       "26652      46      F        11981  United States          USA  06:59:57   \n",
       "\n",
       "          Result_sec  \n",
       "Rank_Tot              \n",
       "1               7677  \n",
       "2               7679  \n",
       "3               7687  \n",
       "4               7734  \n",
       "5               7735  \n",
       "...              ...  \n",
       "26640          22879  \n",
       "26641          22947  \n",
       "26648          23750  \n",
       "26650          24818  \n",
       "26652          25197  \n",
       "\n",
       "[26651 rows x 7 columns]"
      ]
     },
     "execution_count": 5,
     "metadata": {},
     "output_type": "execute_result"
    }
   ],
   "source": [
    "newCols = ['Age', 'Gender', 'Rank_Gender', 'Country', 'Country_code', 'Result_hr', 'Result_sec']\n",
    "df = df.reindex(columns = newCols)\n",
    "df"
   ]
  },
  {
   "cell_type": "code",
   "execution_count": null,
   "metadata": {
    "papermill": {
     "duration": 0.02013,
     "end_time": "2021-03-03T12:23:34.728972",
     "exception": false,
     "start_time": "2021-03-03T12:23:34.708842",
     "status": "completed"
    },
    "tags": []
   },
   "outputs": [],
   "source": []
  },
  {
   "cell_type": "markdown",
   "metadata": {
    "papermill": {
     "duration": 0.019059,
     "end_time": "2021-03-03T12:23:34.767351",
     "exception": false,
     "start_time": "2021-03-03T12:23:34.748292",
     "status": "completed"
    },
    "tags": []
   },
   "source": [
    "### Age Distribution"
   ]
  },
  {
   "cell_type": "code",
   "execution_count": 6,
   "metadata": {
    "execution": {
     "iopub.execute_input": "2021-03-03T12:23:34.811759Z",
     "iopub.status.busy": "2021-03-03T12:23:34.811112Z",
     "iopub.status.idle": "2021-03-03T12:23:35.455643Z",
     "shell.execute_reply": "2021-03-03T12:23:35.456269Z"
    },
    "papermill": {
     "duration": 0.668372,
     "end_time": "2021-03-03T12:23:35.456448",
     "exception": false,
     "start_time": "2021-03-03T12:23:34.788076",
     "status": "completed"
    },
    "tags": []
   },
   "outputs": [
    {
     "data": {
      "image/png": "[encoded data removed]",
      "text/plain": [
       "<Figure size 432x288 with 1 Axes>"
      ]
     },
     "metadata": {},
     "output_type": "display_data"
    }
   ],
   "source": [
    "mu = df['Age'].mean()\n",
    "sigma = np.std(df['Age'])\n",
    "n_bins = 20\n",
    "\n",
    "fig, ax = plt.subplots()\n",
    "ax.hist(df['Age'], bins = n_bins, alpha = 0.75)\n",
    "ax.set_title(\"Age Distribution of All Runners:\"'\\n$\\mu = $' + str(round(mu, 2)) + '    $\\sigma = $' + str(round(sigma, 2)))\n",
    "ax.set_ylabel('Frequency/Count')\n",
    "ax.set_xlabel('Age')\n",
    "fig.tight_layout()\n",
    "plt.show()"
   ]
  },
  {
   "cell_type": "markdown",
   "metadata": {
    "papermill": {
     "duration": 0.020264,
     "end_time": "2021-03-03T12:23:35.497064",
     "exception": false,
     "start_time": "2021-03-03T12:23:35.476800",
     "status": "completed"
    },
    "tags": []
   },
   "source": [
    "***Age Distribution of Male and Female Runners*"
   ]
  },
  {
   "cell_type": "code",
   "execution_count": 7,
   "metadata": {
    "execution": {
     "iopub.execute_input": "2021-03-03T12:23:35.541916Z",
     "iopub.status.busy": "2021-03-03T12:23:35.540963Z",
     "iopub.status.idle": "2021-03-03T12:23:36.113484Z",
     "shell.execute_reply": "2021-03-03T12:23:36.114038Z"
    },
    "papermill": {
     "duration": 0.59665,
     "end_time": "2021-03-03T12:23:36.114228",
     "exception": false,
     "start_time": "2021-03-03T12:23:35.517578",
     "status": "completed"
    },
    "tags": []
   },
   "outputs": [
    {
     "data": {
      "image/png": "[encoded data removed]",
      "text/plain": [
       "<Figure size 576x288 with 2 Axes>"
      ]
     },
     "metadata": {},
     "output_type": "display_data"
    }
   ],
   "source": [
    "males = df[df['Gender'] == 'M']\n",
    "females = df[df['Gender'] == 'F']\n",
    "\n",
    "M_mu = males['Age'].mean()\n",
    "M_sigma = np.std(males['Age'])\n",
    "\n",
    "F_mu = females['Age'].mean()\n",
    "F_sigma = np.std(females['Age'])\n",
    "\n",
    "fig, axs = plt.subplots(1, 2, figsize = (8,4), sharey = True, tight_layout = True)\n",
    "\n",
    "axs[0].hist(males['Age'], label = 'Male', bins = 20)\n",
    "axs[0].set_title(\"Age Distribution of Male Runners:\"'\\n$\\mu = $' + str(round(M_mu, 2)) + '    $\\sigma = $' + str(round(M_sigma, 2)))\n",
    "axs[0].set_xlabel('Age Range in Years')\n",
    "axs[0].set_ylabel('Frequency')\n",
    "axs[0].legend(loc = 'upper right')\n",
    "\n",
    "axs[1].hist(females['Age'], alpha = .6, color = 'green', label = 'Female', bins = 20)\n",
    "axs[1].set_title(\"Age Distribution of Female Runners:\"'\\n$\\mu = $' + str(round(F_mu, 2)) + '    $\\sigma = $' + str(round(F_sigma, 2)))\n",
    "axs[1].set_xlabel('Age Range in Years')\n",
    "axs[1].legend(loc = 'upper right')\n",
    "plt.show()"
   ]
  },
  {
   "cell_type": "markdown",
   "metadata": {
    "papermill": {
     "duration": 0.020849,
     "end_time": "2021-03-03T12:23:36.156697",
     "exception": false,
     "start_time": "2021-03-03T12:23:36.135848",
     "status": "completed"
    },
    "tags": []
   },
   "source": [
    "### Breakdown of Male and Female Runners"
   ]
  },
  {
   "cell_type": "code",
   "execution_count": 8,
   "metadata": {
    "execution": {
     "iopub.execute_input": "2021-03-03T12:23:36.203236Z",
     "iopub.status.busy": "2021-03-03T12:23:36.202311Z",
     "iopub.status.idle": "2021-03-03T12:23:36.438687Z",
     "shell.execute_reply": "2021-03-03T12:23:36.439348Z"
    },
    "papermill": {
     "duration": 0.261453,
     "end_time": "2021-03-03T12:23:36.439521",
     "exception": false,
     "start_time": "2021-03-03T12:23:36.178068",
     "status": "completed"
    },
    "tags": []
   },
   "outputs": [
    {
     "data": {
      "image/png": "[encoded data removed]",
      "text/plain": [
       "<Figure size 432x288 with 1 Axes>"
      ]
     },
     "metadata": {},
     "output_type": "display_data"
    }
   ],
   "source": [
    "gender = df['Gender'].value_counts(normalize = True)\n",
    "gender\n",
    "\n",
    "fig, ax = plt.subplots()\n",
    "ax.pie(gender, explode = (0.0, 0.1), labels = gender.index, autopct = '%1.2f%%', \n",
    "       shadow = True, colors = ('royalblue','forestgreen'))\n",
    "ax.axis('equal')\n",
    "ax.set_title('Percentage of Male/Female Runners')\n",
    "ax.legend()\n",
    "plt.show()"
   ]
  },
  {
   "cell_type": "markdown",
   "metadata": {
    "papermill": {
     "duration": 0.022392,
     "end_time": "2021-03-03T12:23:36.484483",
     "exception": false,
     "start_time": "2021-03-03T12:23:36.462091",
     "status": "completed"
    },
    "tags": []
   },
   "source": [
    "### Top 5 Fielded Countries by Gender"
   ]
  },
  {
   "cell_type": "code",
   "execution_count": 9,
   "metadata": {
    "execution": {
     "iopub.execute_input": "2021-03-03T12:23:36.533835Z",
     "iopub.status.busy": "2021-03-03T12:23:36.532866Z",
     "iopub.status.idle": "2021-03-03T12:23:36.880495Z",
     "shell.execute_reply": "2021-03-03T12:23:36.879886Z"
    },
    "papermill": {
     "duration": 0.373556,
     "end_time": "2021-03-03T12:23:36.880641",
     "exception": false,
     "start_time": "2021-03-03T12:23:36.507085",
     "status": "completed"
    },
    "tags": []
   },
   "outputs": [
    {
     "data": {
      "image/png": "[encoded data removed]",
      "text/plain": [
       "<Figure size 1080x288 with 2 Axes>"
      ]
     },
     "metadata": {},
     "output_type": "display_data"
    }
   ],
   "source": [
    "female_field = females['Country_code'].value_counts().head(5)\n",
    "male_field = males['Country_code'].value_counts().head(5)\n",
    "\n",
    "\n",
    "fig, ax = plt.subplots(1,2, figsize = (15,4))\n",
    "\n",
    "#Plotting Male Field\n",
    "ax[0].pie(male_field, labels = male_field.index)\n",
    "ax[0].legend(male_field,\n",
    "            title = 'Male Runners Fielded',\n",
    "            loc = 'center left',\n",
    "            bbox_to_anchor=(1.1, 0, 0.5, 1))\n",
    "ax[0].set_title('Top 5 Countries Fielding Male Runners')\n",
    "\n",
    "#Plotting Female field\n",
    "ax[1].pie(female_field, labels = female_field.index)\n",
    "ax[1].legend(female_field,\n",
    "            title = 'Female Runners Fielded',\n",
    "            loc = 'center left',\n",
    "            bbox_to_anchor=(1.1, 0, 0.5, 1))\n",
    "ax[1].set_title('Top 5 Countries Fielding Female Runners')\n",
    "\n",
    "\n",
    "plt.tight_layout()\n",
    "plt.show()"
   ]
  },
  {
   "cell_type": "markdown",
   "metadata": {
    "papermill": {
     "duration": 0.024456,
     "end_time": "2021-03-03T12:23:36.929618",
     "exception": false,
     "start_time": "2021-03-03T12:23:36.905162",
     "status": "completed"
    },
    "tags": []
   },
   "source": [
    "### Top 20 Finishes: Men's Division"
   ]
  },
  {
   "cell_type": "code",
   "execution_count": 10,
   "metadata": {
    "execution": {
     "iopub.execute_input": "2021-03-03T12:23:37.001436Z",
     "iopub.status.busy": "2021-03-03T12:23:36.986377Z",
     "iopub.status.idle": "2021-03-03T12:23:37.181319Z",
     "shell.execute_reply": "2021-03-03T12:23:37.181818Z"
    },
    "papermill": {
     "duration": 0.228148,
     "end_time": "2021-03-03T12:23:37.181998",
     "exception": false,
     "start_time": "2021-03-03T12:23:36.953850",
     "status": "completed"
    },
    "tags": []
   },
   "outputs": [
    {
     "data": {
      "image/png": "[encoded data removed]",
      "text/plain": [
       "<Figure size 432x288 with 1 Axes>"
      ]
     },
     "metadata": {},
     "output_type": "display_data"
    }
   ],
   "source": [
    "top20 = males.iloc[:20].Country_code.value_counts()\n",
    "\n",
    "\n",
    "fig, ax = plt.subplots(tight_layout = True)\n",
    "ax.bar(top20.index, top20)\n",
    "ax.set_title('Top 20 Finishes by Country: Mens Division')\n",
    "ax.set_ylabel('Number of Runners Inside top 20')\n",
    "ax.set_xlabel('Countries with top 20 Finishes')\n",
    "plt.show()"
   ]
  },
  {
   "cell_type": "markdown",
   "metadata": {
    "papermill": {
     "duration": 0.025257,
     "end_time": "2021-03-03T12:23:37.233586",
     "exception": false,
     "start_time": "2021-03-03T12:23:37.208329",
     "status": "completed"
    },
    "tags": []
   },
   "source": [
    "### Percentage of Fielded Runners by Country finishing in top 20\n",
    "***50% of Ethiopian Men and 77.78% of Kenyan Men finished in top 20***"
   ]
  },
  {
   "cell_type": "code",
   "execution_count": 11,
   "metadata": {
    "execution": {
     "iopub.execute_input": "2021-03-03T12:23:37.288137Z",
     "iopub.status.busy": "2021-03-03T12:23:37.287528Z",
     "iopub.status.idle": "2021-03-03T12:23:37.305581Z",
     "shell.execute_reply": "2021-03-03T12:23:37.305005Z"
    },
    "papermill": {
     "duration": 0.046194,
     "end_time": "2021-03-03T12:23:37.305725",
     "exception": false,
     "start_time": "2021-03-03T12:23:37.259531",
     "status": "completed"
    },
    "tags": []
   },
   "outputs": [
    {
     "data": {
      "text/html": [
       "<div>\n",
       "<style scoped>\n",
       "    .dataframe tbody tr th:only-of-type {\n",
       "        vertical-align: middle;\n",
       "    }\n",
       "\n",
       "    .dataframe tbody tr th {\n",
       "        vertical-align: top;\n",
       "    }\n",
       "\n",
       "    .dataframe thead th {\n",
       "        text-align: right;\n",
       "    }\n",
       "</style>\n",
       "<table border=\"1\" class=\"dataframe\">\n",
       "  <thead>\n",
       "    <tr style=\"text-align: right;\">\n",
       "      <th></th>\n",
       "      <th>Country_code</th>\n",
       "    </tr>\n",
       "  </thead>\n",
       "  <tbody>\n",
       "    <tr>\n",
       "      <th>KEN</th>\n",
       "      <td>0.777778</td>\n",
       "    </tr>\n",
       "    <tr>\n",
       "      <th>ETH</th>\n",
       "      <td>0.500000</td>\n",
       "    </tr>\n",
       "    <tr>\n",
       "      <th>MAR</th>\n",
       "      <td>0.083333</td>\n",
       "    </tr>\n",
       "    <tr>\n",
       "      <th>JPN</th>\n",
       "      <td>0.017964</td>\n",
       "    </tr>\n",
       "    <tr>\n",
       "      <th>USA</th>\n",
       "      <td>0.000787</td>\n",
       "    </tr>\n",
       "  </tbody>\n",
       "</table>\n",
       "</div>"
      ],
      "text/plain": [
       "     Country_code\n",
       "KEN      0.777778\n",
       "ETH      0.500000\n",
       "MAR      0.083333\n",
       "JPN      0.017964\n",
       "USA      0.000787"
      ]
     },
     "execution_count": 11,
     "metadata": {},
     "output_type": "execute_result"
    }
   ],
   "source": [
    "male_field2 = males['Country_code'].value_counts()\n",
    "\n",
    "for country in top20.index:\n",
    "    if country in male_field:\n",
    "        x = pd.DataFrame(top20/male_field2)\n",
    "        \n",
    "x.dropna(inplace = True)\n",
    "x.sort_values(by = 'Country_code', ascending = False)"
   ]
  },
  {
   "cell_type": "markdown",
   "metadata": {
    "papermill": {
     "duration": 0.025901,
     "end_time": "2021-03-03T12:23:37.357661",
     "exception": false,
     "start_time": "2021-03-03T12:23:37.331760",
     "status": "completed"
    },
    "tags": []
   },
   "source": [
    "### Top 20 Finishes: Women's Division"
   ]
  },
  {
   "cell_type": "code",
   "execution_count": 12,
   "metadata": {
    "execution": {
     "iopub.execute_input": "2021-03-03T12:23:37.433965Z",
     "iopub.status.busy": "2021-03-03T12:23:37.433120Z",
     "iopub.status.idle": "2021-03-03T12:23:37.614237Z",
     "shell.execute_reply": "2021-03-03T12:23:37.614773Z"
    },
    "papermill": {
     "duration": 0.230511,
     "end_time": "2021-03-03T12:23:37.614956",
     "exception": false,
     "start_time": "2021-03-03T12:23:37.384445",
     "status": "completed"
    },
    "tags": []
   },
   "outputs": [
    {
     "data": {
      "image/png": "[encoded data removed]",
      "text/plain": [
       "<Figure size 432x288 with 1 Axes>"
      ]
     },
     "metadata": {},
     "output_type": "display_data"
    }
   ],
   "source": [
    "top20F = females.iloc[:20].Country_code.value_counts()\n",
    "\n",
    "\n",
    "fig, ax = plt.subplots(tight_layout = True)\n",
    "ax.bar(top20F.index, top20)\n",
    "ax.set_title('Top 20 Finishes by Country: Women\\'s Divison')\n",
    "ax.set_ylabel('Number of Runners Inside top 20')\n",
    "ax.set_xlabel('Countries with top 20 Finishes')\n",
    "plt.show()"
   ]
  },
  {
   "cell_type": "markdown",
   "metadata": {
    "papermill": {
     "duration": 0.027032,
     "end_time": "2021-03-03T12:23:37.669379",
     "exception": false,
     "start_time": "2021-03-03T12:23:37.642347",
     "status": "completed"
    },
    "tags": []
   },
   "source": [
    "### Percentage of Fielded Runners by Country finishing in top 20\n",
    "***100% of Ethiopian Women and 71.43% of Kenyan Women finished in top 20***"
   ]
  },
  {
   "cell_type": "code",
   "execution_count": 13,
   "metadata": {
    "execution": {
     "iopub.execute_input": "2021-03-03T12:23:37.740350Z",
     "iopub.status.busy": "2021-03-03T12:23:37.739693Z",
     "iopub.status.idle": "2021-03-03T12:23:37.743171Z",
     "shell.execute_reply": "2021-03-03T12:23:37.742652Z"
    },
    "papermill": {
     "duration": 0.046763,
     "end_time": "2021-03-03T12:23:37.743306",
     "exception": false,
     "start_time": "2021-03-03T12:23:37.696543",
     "status": "completed"
    },
    "tags": []
   },
   "outputs": [
    {
     "data": {
      "text/html": [
       "<div>\n",
       "<style scoped>\n",
       "    .dataframe tbody tr th:only-of-type {\n",
       "        vertical-align: middle;\n",
       "    }\n",
       "\n",
       "    .dataframe tbody tr th {\n",
       "        vertical-align: top;\n",
       "    }\n",
       "\n",
       "    .dataframe thead th {\n",
       "        text-align: right;\n",
       "    }\n",
       "</style>\n",
       "<table border=\"1\" class=\"dataframe\">\n",
       "  <thead>\n",
       "    <tr style=\"text-align: right;\">\n",
       "      <th></th>\n",
       "      <th>Country_code</th>\n",
       "    </tr>\n",
       "  </thead>\n",
       "  <tbody>\n",
       "    <tr>\n",
       "      <th>ETH</th>\n",
       "      <td>1.000000</td>\n",
       "    </tr>\n",
       "    <tr>\n",
       "      <th>KEN</th>\n",
       "      <td>0.714286</td>\n",
       "    </tr>\n",
       "    <tr>\n",
       "      <th>IRL</th>\n",
       "      <td>0.027027</td>\n",
       "    </tr>\n",
       "    <tr>\n",
       "      <th>GBR</th>\n",
       "      <td>0.004274</td>\n",
       "    </tr>\n",
       "    <tr>\n",
       "      <th>USA</th>\n",
       "      <td>0.001033</td>\n",
       "    </tr>\n",
       "  </tbody>\n",
       "</table>\n",
       "</div>"
      ],
      "text/plain": [
       "     Country_code\n",
       "ETH      1.000000\n",
       "KEN      0.714286\n",
       "IRL      0.027027\n",
       "GBR      0.004274\n",
       "USA      0.001033"
      ]
     },
     "execution_count": 13,
     "metadata": {},
     "output_type": "execute_result"
    }
   ],
   "source": [
    "female_field2 = females['Country_code'].value_counts()\n",
    "\n",
    "for country in top20.index:\n",
    "    if country in female_field:\n",
    "        x = pd.DataFrame(top20F/female_field2)\n",
    "        \n",
    "x.dropna(inplace = True)\n",
    "x.sort_values(by = 'Country_code', ascending = False)"
   ]
  },
  {
   "cell_type": "markdown",
   "metadata": {
    "papermill": {
     "duration": 0.027534,
     "end_time": "2021-03-03T12:23:37.798747",
     "exception": false,
     "start_time": "2021-03-03T12:23:37.771213",
     "status": "completed"
    },
    "tags": []
   },
   "source": [
    "### Observing Data of American Men\n",
    "**Looks like Country_code \"USA\" includes runners from other Countries.**"
   ]
  },
  {
   "cell_type": "code",
   "execution_count": 14,
   "metadata": {
    "execution": {
     "iopub.execute_input": "2021-03-03T12:23:37.862752Z",
     "iopub.status.busy": "2021-03-03T12:23:37.861726Z",
     "iopub.status.idle": "2021-03-03T12:23:37.872663Z",
     "shell.execute_reply": "2021-03-03T12:23:37.872171Z"
    },
    "papermill": {
     "duration": 0.046631,
     "end_time": "2021-03-03T12:23:37.872804",
     "exception": false,
     "start_time": "2021-03-03T12:23:37.826173",
     "status": "completed"
    },
    "tags": []
   },
   "outputs": [
    {
     "data": {
      "text/plain": [
       "United States     9507\n",
       "Canada              70\n",
       "Mexico              61\n",
       "United Kingdom      61\n",
       "China               58\n",
       "                  ... \n",
       "Kenya                1\n",
       "Nepal                1\n",
       "Eritrea              1\n",
       "Uruguay              1\n",
       "Ukraine              1\n",
       "Name: Country, Length: 81, dtype: int64"
      ]
     },
     "execution_count": 14,
     "metadata": {},
     "output_type": "execute_result"
    }
   ],
   "source": [
    "usa_men = males.loc[males['Country_code'] == 'USA']\n",
    "usa_men.Country.value_counts()"
   ]
  },
  {
   "cell_type": "code",
   "execution_count": 15,
   "metadata": {
    "execution": {
     "iopub.execute_input": "2021-03-03T12:23:37.932577Z",
     "iopub.status.busy": "2021-03-03T12:23:37.931897Z",
     "iopub.status.idle": "2021-03-03T12:23:37.957675Z",
     "shell.execute_reply": "2021-03-03T12:23:37.958241Z"
    },
    "papermill": {
     "duration": 0.057754,
     "end_time": "2021-03-03T12:23:37.958436",
     "exception": false,
     "start_time": "2021-03-03T12:23:37.900682",
     "status": "completed"
    },
    "tags": []
   },
   "outputs": [
    {
     "data": {
      "text/html": [
       "<div>\n",
       "<style scoped>\n",
       "    .dataframe tbody tr th:only-of-type {\n",
       "        vertical-align: middle;\n",
       "    }\n",
       "\n",
       "    .dataframe tbody tr th {\n",
       "        vertical-align: top;\n",
       "    }\n",
       "\n",
       "    .dataframe thead th {\n",
       "        text-align: right;\n",
       "    }\n",
       "</style>\n",
       "<table border=\"1\" class=\"dataframe\">\n",
       "  <thead>\n",
       "    <tr style=\"text-align: right;\">\n",
       "      <th></th>\n",
       "      <th>Age</th>\n",
       "      <th>Gender</th>\n",
       "      <th>Rank_Gender</th>\n",
       "      <th>Country</th>\n",
       "      <th>Country_code</th>\n",
       "      <th>Result_hr</th>\n",
       "      <th>Result_sec</th>\n",
       "    </tr>\n",
       "    <tr>\n",
       "      <th>Rank_Tot</th>\n",
       "      <th></th>\n",
       "      <th></th>\n",
       "      <th></th>\n",
       "      <th></th>\n",
       "      <th></th>\n",
       "      <th></th>\n",
       "      <th></th>\n",
       "    </tr>\n",
       "  </thead>\n",
       "  <tbody>\n",
       "    <tr>\n",
       "      <th>7</th>\n",
       "      <td>27</td>\n",
       "      <td>M</td>\n",
       "      <td>7</td>\n",
       "      <td>United States</td>\n",
       "      <td>USA</td>\n",
       "      <td>02:09:09</td>\n",
       "      <td>7749</td>\n",
       "    </tr>\n",
       "    <tr>\n",
       "      <th>8</th>\n",
       "      <td>30</td>\n",
       "      <td>M</td>\n",
       "      <td>8</td>\n",
       "      <td>United States</td>\n",
       "      <td>USA</td>\n",
       "      <td>02:09:25</td>\n",
       "      <td>7765</td>\n",
       "    </tr>\n",
       "    <tr>\n",
       "      <th>11</th>\n",
       "      <td>35</td>\n",
       "      <td>M</td>\n",
       "      <td>11</td>\n",
       "      <td>United States</td>\n",
       "      <td>USA</td>\n",
       "      <td>02:11:51</td>\n",
       "      <td>7911</td>\n",
       "    </tr>\n",
       "    <tr>\n",
       "      <th>13</th>\n",
       "      <td>35</td>\n",
       "      <td>M</td>\n",
       "      <td>13</td>\n",
       "      <td>United States</td>\n",
       "      <td>USA</td>\n",
       "      <td>02:12:40</td>\n",
       "      <td>7960</td>\n",
       "    </tr>\n",
       "    <tr>\n",
       "      <th>15</th>\n",
       "      <td>34</td>\n",
       "      <td>M</td>\n",
       "      <td>15</td>\n",
       "      <td>United States</td>\n",
       "      <td>USA</td>\n",
       "      <td>02:13:11</td>\n",
       "      <td>7991</td>\n",
       "    </tr>\n",
       "    <tr>\n",
       "      <th>...</th>\n",
       "      <td>...</td>\n",
       "      <td>...</td>\n",
       "      <td>...</td>\n",
       "      <td>...</td>\n",
       "      <td>...</td>\n",
       "      <td>...</td>\n",
       "      <td>...</td>\n",
       "    </tr>\n",
       "    <tr>\n",
       "      <th>26645</th>\n",
       "      <td>35</td>\n",
       "      <td>M</td>\n",
       "      <td>14667</td>\n",
       "      <td>United States</td>\n",
       "      <td>USA</td>\n",
       "      <td>06:26:58</td>\n",
       "      <td>23218</td>\n",
       "    </tr>\n",
       "    <tr>\n",
       "      <th>26646</th>\n",
       "      <td>69</td>\n",
       "      <td>M</td>\n",
       "      <td>14668</td>\n",
       "      <td>United States</td>\n",
       "      <td>USA</td>\n",
       "      <td>06:31:32</td>\n",
       "      <td>23492</td>\n",
       "    </tr>\n",
       "    <tr>\n",
       "      <th>26647</th>\n",
       "      <td>21</td>\n",
       "      <td>M</td>\n",
       "      <td>14669</td>\n",
       "      <td>United States</td>\n",
       "      <td>USA</td>\n",
       "      <td>06:32:44</td>\n",
       "      <td>23564</td>\n",
       "    </tr>\n",
       "    <tr>\n",
       "      <th>26649</th>\n",
       "      <td>27</td>\n",
       "      <td>M</td>\n",
       "      <td>14670</td>\n",
       "      <td>United States</td>\n",
       "      <td>USA</td>\n",
       "      <td>06:47:56</td>\n",
       "      <td>24476</td>\n",
       "    </tr>\n",
       "    <tr>\n",
       "      <th>26651</th>\n",
       "      <td>51</td>\n",
       "      <td>M</td>\n",
       "      <td>14671</td>\n",
       "      <td>United States</td>\n",
       "      <td>USA</td>\n",
       "      <td>06:56:44</td>\n",
       "      <td>25004</td>\n",
       "    </tr>\n",
       "  </tbody>\n",
       "</table>\n",
       "<p>9507 rows × 7 columns</p>\n",
       "</div>"
      ],
      "text/plain": [
       "          Age Gender  Rank_Gender        Country Country_code Result_hr  \\\n",
       "Rank_Tot                                                                  \n",
       "7          27      M            7  United States          USA  02:09:09   \n",
       "8          30      M            8  United States          USA  02:09:25   \n",
       "11         35      M           11  United States          USA  02:11:51   \n",
       "13         35      M           13  United States          USA  02:12:40   \n",
       "15         34      M           15  United States          USA  02:13:11   \n",
       "...       ...    ...          ...            ...          ...       ...   \n",
       "26645      35      M        14667  United States          USA  06:26:58   \n",
       "26646      69      M        14668  United States          USA  06:31:32   \n",
       "26647      21      M        14669  United States          USA  06:32:44   \n",
       "26649      27      M        14670  United States          USA  06:47:56   \n",
       "26651      51      M        14671  United States          USA  06:56:44   \n",
       "\n",
       "          Result_sec  \n",
       "Rank_Tot              \n",
       "7               7749  \n",
       "8               7765  \n",
       "11              7911  \n",
       "13              7960  \n",
       "15              7991  \n",
       "...              ...  \n",
       "26645          23218  \n",
       "26646          23492  \n",
       "26647          23564  \n",
       "26649          24476  \n",
       "26651          25004  \n",
       "\n",
       "[9507 rows x 7 columns]"
      ]
     },
     "execution_count": 15,
     "metadata": {},
     "output_type": "execute_result"
    }
   ],
   "source": [
    "usa_men2 = males.loc[(males['Country_code'] == 'USA') & (males['Country'] == 'United States')]\n",
    "usa_men2"
   ]
  },
  {
   "cell_type": "code",
   "execution_count": 16,
   "metadata": {
    "execution": {
     "iopub.execute_input": "2021-03-03T12:23:38.019558Z",
     "iopub.status.busy": "2021-03-03T12:23:38.018912Z",
     "iopub.status.idle": "2021-03-03T12:23:38.029171Z",
     "shell.execute_reply": "2021-03-03T12:23:38.028424Z"
    },
    "papermill": {
     "duration": 0.042193,
     "end_time": "2021-03-03T12:23:38.029368",
     "exception": false,
     "start_time": "2021-03-03T12:23:37.987175",
     "status": "completed"
    },
    "tags": []
   },
   "outputs": [
    {
     "name": "stderr",
     "output_type": "stream",
     "text": [
      "/opt/conda/lib/python3.7/site-packages/ipykernel_launcher.py:3: SettingWithCopyWarning: \n",
      "A value is trying to be set on a copy of a slice from a DataFrame.\n",
      "Try using .loc[row_indexer,col_indexer] = value instead\n",
      "\n",
      "See the caveats in the documentation: https://pandas.pydata.org/pandas-docs/stable/user_guide/indexing.html#returning-a-view-versus-a-copy\n",
      "  This is separate from the ipykernel package so we can avoid doing imports until\n"
     ]
    }
   ],
   "source": [
    "bins = [18,20,30,40,50,60,70,80,90]\n",
    "ranges = ['U20','20-29','30-39','40-49','50-59','60-69','70-79','80-89']\n",
    "usa_men2['age_range'] = pd.cut(usa_men2['Age'], bins = bins, labels = ranges, right = False)"
   ]
  },
  {
   "cell_type": "code",
   "execution_count": 17,
   "metadata": {
    "execution": {
     "iopub.execute_input": "2021-03-03T12:23:38.093252Z",
     "iopub.status.busy": "2021-03-03T12:23:38.092320Z",
     "iopub.status.idle": "2021-03-03T12:23:38.321207Z",
     "shell.execute_reply": "2021-03-03T12:23:38.320600Z"
    },
    "papermill": {
     "duration": 0.261706,
     "end_time": "2021-03-03T12:23:38.321347",
     "exception": false,
     "start_time": "2021-03-03T12:23:38.059641",
     "status": "completed"
    },
    "tags": []
   },
   "outputs": [
    {
     "data": {
      "image/png": "[encoded data removed]",
      "text/plain": [
       "<Figure size 576x288 with 1 Axes>"
      ]
     },
     "metadata": {},
     "output_type": "display_data"
    }
   ],
   "source": [
    "ages = usa_men2['age_range'].value_counts().sort_index()\n",
    "\n",
    "fig, ax = plt.subplots(figsize = (8,4))\n",
    "ax.bar(ages.index, height = ages.values)\n",
    "ax.set_title('American Runners by Age Group')\n",
    "ax.set_ylabel('Number of Runners')\n",
    "ax.set_xlabel('Age Group')\n",
    "ax.legend()\n",
    "fig.tight_layout()\n",
    "plt.show()\n"
   ]
  },
  {
   "cell_type": "markdown",
   "metadata": {
    "papermill": {
     "duration": 0.029893,
     "end_time": "2021-03-03T12:23:38.381620",
     "exception": false,
     "start_time": "2021-03-03T12:23:38.351727",
     "status": "completed"
    },
    "tags": []
   },
   "source": [
    "### Time Distributions by Age Group"
   ]
  },
  {
   "cell_type": "code",
   "execution_count": 18,
   "metadata": {
    "execution": {
     "iopub.execute_input": "2021-03-03T12:23:38.475295Z",
     "iopub.status.busy": "2021-03-03T12:23:38.469878Z",
     "iopub.status.idle": "2021-03-03T12:23:41.274658Z",
     "shell.execute_reply": "2021-03-03T12:23:41.273999Z"
    },
    "papermill": {
     "duration": 2.862046,
     "end_time": "2021-03-03T12:23:41.274795",
     "exception": false,
     "start_time": "2021-03-03T12:23:38.412749",
     "status": "completed"
    },
    "tags": []
   },
   "outputs": [
    {
     "data": {
      "image/png": "[encoded data removed]",
      "text/plain": [
       "<Figure size 1440x720 with 8 Axes>"
      ]
     },
     "metadata": {},
     "output_type": "display_data"
    }
   ],
   "source": [
    "sns.displot(data = usa_men2, x = 'Result_sec', col = 'age_range', col_wrap = 4, kde = True, color = ('r'))\n",
    "plt.show()"
   ]
  },
  {
   "cell_type": "code",
   "execution_count": 19,
   "metadata": {
    "execution": {
     "iopub.execute_input": "2021-03-03T12:23:41.348090Z",
     "iopub.status.busy": "2021-03-03T12:23:41.347472Z",
     "iopub.status.idle": "2021-03-03T12:23:41.696669Z",
     "shell.execute_reply": "2021-03-03T12:23:41.696047Z"
    },
    "papermill": {
     "duration": 0.389211,
     "end_time": "2021-03-03T12:23:41.696816",
     "exception": false,
     "start_time": "2021-03-03T12:23:41.307605",
     "status": "completed"
    },
    "tags": []
   },
   "outputs": [
    {
     "data": {
      "text/plain": [
       "<AxesSubplot:xlabel='Result_sec', ylabel='Density'>"
      ]
     },
     "execution_count": 19,
     "metadata": {},
     "output_type": "execute_result"
    },
    {
     "data": {
      "image/png": "[encoded data removed]",
      "text/plain": [
       "<Figure size 432x288 with 1 Axes>"
      ]
     },
     "metadata": {},
     "output_type": "display_data"
    }
   ],
   "source": [
    "sns.kdeplot(data = usa_men2, x = 'Result_sec', hue = 'age_range', fill = True, common_norm = False, alpha = 0.5, linewidth = 0)\n"
   ]
  },
  {
   "cell_type": "code",
   "execution_count": 20,
   "metadata": {
    "execution": {
     "iopub.execute_input": "2021-03-03T12:23:41.774626Z",
     "iopub.status.busy": "2021-03-03T12:23:41.772543Z",
     "iopub.status.idle": "2021-03-03T12:23:41.861958Z",
     "shell.execute_reply": "2021-03-03T12:23:41.861468Z"
    },
    "papermill": {
     "duration": 0.130708,
     "end_time": "2021-03-03T12:23:41.862098",
     "exception": false,
     "start_time": "2021-03-03T12:23:41.731390",
     "status": "completed"
    },
    "tags": []
   },
   "outputs": [
    {
     "data": {
      "text/html": [
       "<div>\n",
       "<style scoped>\n",
       "    .dataframe tbody tr th:only-of-type {\n",
       "        vertical-align: middle;\n",
       "    }\n",
       "\n",
       "    .dataframe tbody tr th {\n",
       "        vertical-align: top;\n",
       "    }\n",
       "\n",
       "    .dataframe thead th {\n",
       "        text-align: right;\n",
       "    }\n",
       "</style>\n",
       "<table border=\"1\" class=\"dataframe\">\n",
       "  <thead>\n",
       "    <tr style=\"text-align: right;\">\n",
       "      <th></th>\n",
       "      <th>count</th>\n",
       "      <th>mean</th>\n",
       "      <th>std</th>\n",
       "      <th>min</th>\n",
       "      <th>25%</th>\n",
       "      <th>50%</th>\n",
       "      <th>75%</th>\n",
       "      <th>max</th>\n",
       "    </tr>\n",
       "    <tr>\n",
       "      <th>age_range</th>\n",
       "      <th></th>\n",
       "      <th></th>\n",
       "      <th></th>\n",
       "      <th></th>\n",
       "      <th></th>\n",
       "      <th></th>\n",
       "      <th></th>\n",
       "      <th></th>\n",
       "    </tr>\n",
       "  </thead>\n",
       "  <tbody>\n",
       "    <tr>\n",
       "      <th>U20</th>\n",
       "      <td>35.0</td>\n",
       "      <td>12916.114286</td>\n",
       "      <td>2814.283409</td>\n",
       "      <td>9569.0</td>\n",
       "      <td>10482.00</td>\n",
       "      <td>12096.0</td>\n",
       "      <td>14538.5</td>\n",
       "      <td>20463.0</td>\n",
       "    </tr>\n",
       "    <tr>\n",
       "      <th>20-29</th>\n",
       "      <td>1404.0</td>\n",
       "      <td>12365.107550</td>\n",
       "      <td>2886.552065</td>\n",
       "      <td>7749.0</td>\n",
       "      <td>10285.25</td>\n",
       "      <td>11260.5</td>\n",
       "      <td>13944.5</td>\n",
       "      <td>24476.0</td>\n",
       "    </tr>\n",
       "    <tr>\n",
       "      <th>30-39</th>\n",
       "      <td>2229.0</td>\n",
       "      <td>12649.726335</td>\n",
       "      <td>2852.288642</td>\n",
       "      <td>7765.0</td>\n",
       "      <td>10669.00</td>\n",
       "      <td>11619.0</td>\n",
       "      <td>14067.0</td>\n",
       "      <td>23218.0</td>\n",
       "    </tr>\n",
       "    <tr>\n",
       "      <th>40-49</th>\n",
       "      <td>2593.0</td>\n",
       "      <td>13247.415735</td>\n",
       "      <td>2588.536441</td>\n",
       "      <td>8336.0</td>\n",
       "      <td>11460.00</td>\n",
       "      <td>12430.0</td>\n",
       "      <td>14273.0</td>\n",
       "      <td>22276.0</td>\n",
       "    </tr>\n",
       "    <tr>\n",
       "      <th>50-59</th>\n",
       "      <td>2068.0</td>\n",
       "      <td>14079.082689</td>\n",
       "      <td>2356.898455</td>\n",
       "      <td>9503.0</td>\n",
       "      <td>12473.00</td>\n",
       "      <td>13497.5</td>\n",
       "      <td>15128.0</td>\n",
       "      <td>25004.0</td>\n",
       "    </tr>\n",
       "    <tr>\n",
       "      <th>60-69</th>\n",
       "      <td>1055.0</td>\n",
       "      <td>15424.851185</td>\n",
       "      <td>2032.048202</td>\n",
       "      <td>10420.0</td>\n",
       "      <td>14028.00</td>\n",
       "      <td>15125.0</td>\n",
       "      <td>16523.0</td>\n",
       "      <td>23492.0</td>\n",
       "    </tr>\n",
       "    <tr>\n",
       "      <th>70-79</th>\n",
       "      <td>120.0</td>\n",
       "      <td>17420.841667</td>\n",
       "      <td>2504.825373</td>\n",
       "      <td>10730.0</td>\n",
       "      <td>15477.00</td>\n",
       "      <td>17216.0</td>\n",
       "      <td>19222.5</td>\n",
       "      <td>22504.0</td>\n",
       "    </tr>\n",
       "    <tr>\n",
       "      <th>80-89</th>\n",
       "      <td>3.0</td>\n",
       "      <td>18554.000000</td>\n",
       "      <td>2613.523101</td>\n",
       "      <td>16252.0</td>\n",
       "      <td>17133.50</td>\n",
       "      <td>18015.0</td>\n",
       "      <td>19705.0</td>\n",
       "      <td>21395.0</td>\n",
       "    </tr>\n",
       "  </tbody>\n",
       "</table>\n",
       "</div>"
      ],
      "text/plain": [
       "            count          mean          std      min       25%      50%  \\\n",
       "age_range                                                                  \n",
       "U20          35.0  12916.114286  2814.283409   9569.0  10482.00  12096.0   \n",
       "20-29      1404.0  12365.107550  2886.552065   7749.0  10285.25  11260.5   \n",
       "30-39      2229.0  12649.726335  2852.288642   7765.0  10669.00  11619.0   \n",
       "40-49      2593.0  13247.415735  2588.536441   8336.0  11460.00  12430.0   \n",
       "50-59      2068.0  14079.082689  2356.898455   9503.0  12473.00  13497.5   \n",
       "60-69      1055.0  15424.851185  2032.048202  10420.0  14028.00  15125.0   \n",
       "70-79       120.0  17420.841667  2504.825373  10730.0  15477.00  17216.0   \n",
       "80-89         3.0  18554.000000  2613.523101  16252.0  17133.50  18015.0   \n",
       "\n",
       "               75%      max  \n",
       "age_range                    \n",
       "U20        14538.5  20463.0  \n",
       "20-29      13944.5  24476.0  \n",
       "30-39      14067.0  23218.0  \n",
       "40-49      14273.0  22276.0  \n",
       "50-59      15128.0  25004.0  \n",
       "60-69      16523.0  23492.0  \n",
       "70-79      19222.5  22504.0  \n",
       "80-89      19705.0  21395.0  "
      ]
     },
     "execution_count": 20,
     "metadata": {},
     "output_type": "execute_result"
    }
   ],
   "source": [
    "ageStats = usa_men2.groupby('age_range').describe()['Result_sec']\n",
    "ageStats"
   ]
  }
 ],
 "metadata": {
  "kernelspec": {
   "display_name": "Python 3",
   "language": "python",
   "name": "python3"
  },
  "language_info": {
   "codemirror_mode": {
    "name": "ipython",
    "version": 3
   },
   "file_extension": ".py",
   "mimetype": "text/x-python",
   "name": "python",
   "nbconvert_exporter": "python",
   "pygments_lexer": "ipython3",
   "version": "3.7.9"
  },
  "papermill": {
   "default_parameters": {},
   "duration": 16.026907,
   "end_time": "2021-03-03T12:23:42.607520",
   "environment_variables": {},
   "exception": null,
   "input_path": "__notebook__.ipynb",
   "output_path": "__notebook__.ipynb",
   "parameters": {},
   "start_time": "2021-03-03T12:23:26.580613",
   "version": "2.2.2"
  }
 },
 "nbformat": 4,
 "nbformat_minor": 4
}
