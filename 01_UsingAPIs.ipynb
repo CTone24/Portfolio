{
 "cells": [
  {
   "cell_type": "markdown",
   "id": "edde41c4",
   "metadata": {},
   "source": [
    "### Working with Google API to extract data on restaurants"
   ]
  },
  {
   "cell_type": "code",
   "execution_count": 3,
   "id": "350a2a97",
   "metadata": {},
   "outputs": [],
   "source": [
    "# api_key = read in api key from separate file"
   ]
  },
  {
   "cell_type": "code",
   "execution_count": 5,
   "id": "25d3827f",
   "metadata": {},
   "outputs": [],
   "source": [
    "import requests\n",
    "import json"
   ]
  },
  {
   "cell_type": "code",
   "execution_count": 6,
   "id": "dda15bc5",
   "metadata": {},
   "outputs": [],
   "source": [
    "query = \"restaurants near boston university\"\n",
    "url = \"https://maps.googleapis.com/maps/api/place/textsearch/json?query=%s&key=%s\" %(query, api_key)\n",
    "\n",
    "try:\n",
    "    response = requests.get(url)\n",
    "    if response.status_code != 200:\n",
    "        print('HTTP error', response.status_code)\n",
    "    else:\n",
    "        try:\n",
    "            response_data = response.json()\n",
    "        except:\n",
    "            print(\"response not valid JSON format\")\n",
    "except:\n",
    "    print(\"something went wrong with requests.get\")"
   ]
  },
  {
   "cell_type": "code",
   "execution_count": 40,
   "id": "fb73fadf",
   "metadata": {},
   "outputs": [
    {
     "name": "stdout",
     "output_type": "stream",
     "text": [
      "<class 'dict'>\n"
     ]
    }
   ],
   "source": [
    "response_data.keys()\n",
    "print(type(response_data['results'][0]))"
   ]
  },
  {
   "cell_type": "code",
   "execution_count": 36,
   "id": "e2112790",
   "metadata": {},
   "outputs": [
    {
     "name": "stdout",
     "output_type": "stream",
     "text": [
      "{'business_status': 'OPERATIONAL', 'formatted_address': '712 Commonwealth Avenue, Boston, MA 02215, United States', 'geometry': {'location': {'lat': 42.3495484, 'lng': -71.1055686}, 'viewport': {'northeast': {'lat': 42.35089822989272, 'lng': -71.10421877010728}, 'southwest': {'lat': 42.34819857010728, 'lng': -71.10691842989272}}}, 'icon': 'https://maps.gstatic.com/mapfiles/place_api/icons/v1/png_71/restaurant-71.png', 'icon_background_color': '#FF9E67', 'icon_mask_base_uri': 'https://maps.gstatic.com/mapfiles/place_api/icons/v2/restaurant_pinlet', 'name': 'University grill & pizza', 'opening_hours': {'open_now': False}, 'photos': [{'height': 3264, 'html_attributions': ['<a href=\"https://maps.google.com/maps/contrib/113218831869395214706\">M Burnett</a>'], 'photo_reference': 'Aap_uEDa_SzXYvvpLxiMrdi3nbMUGJ27In-RIFnth_bOcA2t4Z9RQQn2_njIMQa9jZbpSMwUgLs6CbF33bqc9ZWHIs2iV15S7j4XxM8dshv62cMQdZwhrVAtUzZBUCHZoUXutZwHnFA2awhHn1P2SZKBcv5MQoGrbVp0O0NqvvqPBJpKz15v', 'width': 2448}], 'place_id': 'ChIJgTVA8vB544kRFbGEuIa0QSg', 'plus_code': {'compound_code': '8VXV+RQ Boston, Massachusetts', 'global_code': '87JC8VXV+RQ'}, 'price_level': 1, 'rating': 4.5, 'reference': 'ChIJgTVA8vB544kRFbGEuIa0QSg', 'types': ['restaurant', 'food', 'point_of_interest', 'establishment'], 'user_ratings_total': 78}\n",
      "{'business_status': 'OPERATIONAL', 'formatted_address': '714 Commonwealth Avenue, Boston, MA 02215, United States', 'geometry': {'location': {'lat': 42.3495529, 'lng': -71.1056499}, 'viewport': {'northeast': {'lat': 42.35102162989272, 'lng': -71.10429622010727}, 'southwest': {'lat': 42.34832197010728, 'lng': -71.10699587989272}}}, 'icon': 'https://maps.gstatic.com/mapfiles/place_api/icons/v1/png_71/restaurant-71.png', 'icon_background_color': '#FF9E67', 'icon_mask_base_uri': 'https://maps.gstatic.com/mapfiles/place_api/icons/v2/restaurant_pinlet', 'name': 'Crispy Crepes Cafe', 'opening_hours': {'open_now': False}, 'photos': [{'height': 4032, 'html_attributions': ['<a href=\"https://maps.google.com/maps/contrib/108520664527792800174\">Samara Fair</a>'], 'photo_reference': 'Aap_uECDco0BOH8KflR2fUd_wCZ6xPwDCsSpRCBZsXygT9pKGinRLcwZ6kTNlnrh5b1TEwapg2ZXgy6XGRFuGNuM-lXvs1Iv7ZHgf6qctngScR75WtlaMeWDGWuMf8kH5KVc-rLmQgZ2PVwq6_jzOVYyClNlcYmBeTtr2dnIApCBw3h9EgzL', 'width': 3024}], 'place_id': 'ChIJl1IyCfF544kRX2Sp1p-Hn9U', 'plus_code': {'compound_code': '8VXV+RP Boston, Massachusetts', 'global_code': '87JC8VXV+RP'}, 'rating': 4.6, 'reference': 'ChIJl1IyCfF544kRX2Sp1p-Hn9U', 'types': ['restaurant', 'food', 'point_of_interest', 'establishment'], 'user_ratings_total': 148}\n",
      "{'business_status': 'OPERATIONAL', 'formatted_address': '738 Commonwealth Avenue, Boston, MA 02215, United States', 'geometry': {'location': {'lat': 42.3498222, 'lng': -71.10725}, 'viewport': {'northeast': {'lat': 42.35128572989272, 'lng': -71.10616312010727}, 'southwest': {'lat': 42.34858607010728, 'lng': -71.10886277989272}}}, 'icon': 'https://maps.gstatic.com/mapfiles/place_api/icons/v1/png_71/restaurant-71.png', 'icon_background_color': '#FF9E67', 'icon_mask_base_uri': 'https://maps.gstatic.com/mapfiles/place_api/icons/v2/restaurant_pinlet', 'name': 'Nud Pob Thai Cuisine', 'opening_hours': {'open_now': False}, 'photos': [{'height': 2988, 'html_attributions': ['<a href=\"https://maps.google.com/maps/contrib/100802463526204963220\">Jane N.</a>'], 'photo_reference': 'Aap_uEBswHliGvQFgyOOxC0JibXkHSdWhaC2M6kDzMpDvdUoK6GlX9zXS-bRuz8XN8ZxXYONNHB_I7mCQ_QL35sHw0rUsSUNyFxMrdZM9rpjwGEdXghpYEJlUnct-s27iCorFfCjIZqOQ6CF0MQZR8O6bc6bS3nJ4aZKyddhWNbQUznD1WJl', 'width': 5312}], 'place_id': 'ChIJGYDqsqt544kRhKLfnWjBCYU', 'plus_code': {'compound_code': '8VXV+W4 Boston, Massachusetts', 'global_code': '87JC8VXV+W4'}, 'rating': 4.4, 'reference': 'ChIJGYDqsqt544kRhKLfnWjBCYU', 'types': ['restaurant', 'food', 'point_of_interest', 'establishment'], 'user_ratings_total': 270}\n",
      "{'business_status': 'OPERATIONAL', 'formatted_address': '838 Beacon St, Boston, MA 02215, United States', 'geometry': {'location': {'lat': 42.3474079, 'lng': -71.1031816}, 'viewport': {'northeast': {'lat': 42.34867217989272, 'lng': -71.10178342010728}, 'southwest': {'lat': 42.34597252010728, 'lng': -71.10448307989273}}}, 'icon': 'https://maps.gstatic.com/mapfiles/place_api/icons/v1/png_71/bar-71.png', 'icon_background_color': '#FF9E67', 'icon_mask_base_uri': 'https://maps.gstatic.com/mapfiles/place_api/icons/v2/bar_pinlet', 'name': 'Audubon', 'opening_hours': {'open_now': False}, 'photos': [{'height': 4032, 'html_attributions': ['<a href=\"https://maps.google.com/maps/contrib/104406335494892393933\">Michel Hilani</a>'], 'photo_reference': 'Aap_uEAO-9vpxfmSX-Py0ThP45jJgWxcc4I01altx39tgaBFMMdSJ2T6oDd3ZNPbq1KGsTRnV5bbEhNPSxf5KFoQ6epSdiQVNMh0aWjMy0UvtF7RtQkLoNEgY7p02r527qvvCBrFnwdMPpUvQH0knkTfaZ0qOdS-OitHI0SmMy1SnIdMGWhN', 'width': 3024}], 'place_id': 'ChIJDaJJzfZ544kRnon1_FQE2cg', 'plus_code': {'compound_code': '8VWW+XP Boston, Massachusetts', 'global_code': '87JC8VWW+XP'}, 'price_level': 2, 'rating': 4.6, 'reference': 'ChIJDaJJzfZ544kRnon1_FQE2cg', 'types': ['bar', 'restaurant', 'food', 'point_of_interest', 'establishment'], 'user_ratings_total': 503}\n",
      "{'business_status': 'OPERATIONAL', 'formatted_address': '508-512 Park Dr, Boston, MA 02115, United States', 'geometry': {'location': {'lat': 42.3475537, 'lng': -71.10585979999999}, 'viewport': {'northeast': {'lat': 42.34886562989273, 'lng': -71.10446257010726}, 'southwest': {'lat': 42.34616597010728, 'lng': -71.10716222989271}}}, 'icon': 'https://maps.gstatic.com/mapfiles/place_api/icons/v1/png_71/restaurant-71.png', 'icon_background_color': '#FF9E67', 'icon_mask_base_uri': 'https://maps.gstatic.com/mapfiles/place_api/icons/v2/restaurant_pinlet', 'name': 'Futago Udon', 'opening_hours': {'open_now': False}, 'photos': [{'height': 4032, 'html_attributions': ['<a href=\"https://maps.google.com/maps/contrib/110674127243864444052\">Michael Kit</a>'], 'photo_reference': 'Aap_uED7IqzT9_QF7ehpUnNRH39YU5iqNI1PDjUWhvfe5CEzyF2_WQj5VadVjFZ-GPfShcV5zt0TqiFvipnSSTkOX7OOTE_7IlE9bWwvp2khjvgsuH8L1fm7pVrm815pwJG0_dh9bngnqGaLYumoDUpWO8YrZHwWrAJLIALgMsIWyLwwe7UE', 'width': 3024}], 'place_id': 'ChIJsXnAniB544kR43kTP2r7tWA', 'plus_code': {'compound_code': '8VXV+2M Boston, Massachusetts', 'global_code': '87JC8VXV+2M'}, 'rating': 4.5, 'reference': 'ChIJsXnAniB544kR43kTP2r7tWA', 'types': ['restaurant', 'food', 'point_of_interest', 'establishment'], 'user_ratings_total': 239}\n",
      "{'business_status': 'OPERATIONAL', 'formatted_address': '736 Commonwealth Avenue, Boston, MA 02215, United States', 'geometry': {'location': {'lat': 42.3497931, 'lng': -71.1071908}, 'viewport': {'northeast': {'lat': 42.35123367989272, 'lng': -71.10581652010728}, 'southwest': {'lat': 42.34853402010727, 'lng': -71.10851617989272}}}, 'icon': 'https://maps.gstatic.com/mapfiles/place_api/icons/v1/png_71/cafe-71.png', 'icon_background_color': '#FF9E67', 'icon_mask_base_uri': 'https://maps.gstatic.com/mapfiles/place_api/icons/v2/cafe_pinlet', 'name': 'Pavement Coffeehouse', 'opening_hours': {'open_now': False}, 'photos': [{'height': 4032, 'html_attributions': ['<a href=\"https://maps.google.com/maps/contrib/105238915857218070158\">Nikolai</a>'], 'photo_reference': 'Aap_uEAHeJLhbpCoozoIFMZls8lT75u4xKbNrdzbenVYzwl1yeoA27T0shUUd-ZpnRnouHtj5p_IZaZ0Xflgf_Va3-K2h4c6W00ItGf9fkGqfyDd4B8gZYFOXbHXCDXaxnbI5K-nhs--Yq4Inyx-9bY15UVXTyj_M3kBgTqPtYJ-a0wVDRma', 'width': 3024}], 'place_id': 'ChIJT7gqZvB544kR3FwgPBKKn5Q', 'plus_code': {'compound_code': '8VXV+W4 Boston, Massachusetts', 'global_code': '87JC8VXV+W4'}, 'price_level': 2, 'rating': 4.2, 'reference': 'ChIJT7gqZvB544kR3FwgPBKKn5Q', 'types': ['bakery', 'meal_takeaway', 'cafe', 'restaurant', 'food', 'point_of_interest', 'store', 'establishment'], 'user_ratings_total': 282}\n",
      "{'business_status': 'OPERATIONAL', 'formatted_address': '900 Beacon St, Boston, MA 02215, United States', 'geometry': {'location': {'lat': 42.346813, 'lng': -71.105705}, 'viewport': {'northeast': {'lat': 42.34804472989272, 'lng': -71.10432497010727}, 'southwest': {'lat': 42.34534507010728, 'lng': -71.10702462989272}}}, 'icon': 'https://maps.gstatic.com/mapfiles/place_api/icons/v1/png_71/restaurant-71.png', 'icon_background_color': '#FF9E67', 'icon_mask_base_uri': 'https://maps.gstatic.com/mapfiles/place_api/icons/v2/restaurant_pinlet', 'name': 'Cafe Landwer', 'opening_hours': {'open_now': False}, 'photos': [{'height': 4032, 'html_attributions': ['<a href=\"https://maps.google.com/maps/contrib/102978945618364553486\">Shannon Courage</a>'], 'photo_reference': 'Aap_uEBLas62hs5_RDSjmCrcleDXi9nAQi1t2ffBMqRzNb0yz2mjHT0hryXqIgxMttpo0WZsGsWjUI5mREbxfHV_SxCuqqksGqsJsNrMEL_fk6Mznz4zCqxHVudNhIRbe958QQ_D_PPASOpJ2qd9MB0DOndtg9x9Q2ci278-e_wCmrR5S6UT', 'width': 3024}], 'place_id': 'ChIJR_2acPF544kRpR9oUzDtxWo', 'plus_code': {'compound_code': '8VWV+PP Boston, Massachusetts', 'global_code': '87JC8VWV+PP'}, 'price_level': 2, 'rating': 4.4, 'reference': 'ChIJR_2acPF544kRpR9oUzDtxWo', 'types': ['restaurant', 'food', 'point_of_interest', 'establishment'], 'user_ratings_total': 721}\n",
      "{'business_status': 'OPERATIONAL', 'formatted_address': '1046 Beacon St, Brookline, MA 02446, United States', 'geometry': {'location': {'lat': 42.3459446, 'lng': -71.1089342}, 'viewport': {'northeast': {'lat': 42.34717162989272, 'lng': -71.10753132010727}, 'southwest': {'lat': 42.34447197010728, 'lng': -71.11023097989272}}}, 'icon': 'https://maps.gstatic.com/mapfiles/place_api/icons/v1/png_71/restaurant-71.png', 'icon_background_color': '#FF9E67', 'icon_mask_base_uri': 'https://maps.gstatic.com/mapfiles/place_api/icons/v2/restaurant_pinlet', 'name': 'Busy Bee Restaurant & Diner', 'opening_hours': {'open_now': False}, 'photos': [{'height': 3072, 'html_attributions': ['<a href=\"https://maps.google.com/maps/contrib/104799919760733493151\">Kush Tripathi</a>'], 'photo_reference': 'Aap_uECFnWwU8Il1cqLajS4WiZ-UqHv_cVq4Vn-qvMhshWrTVnTa3N-RzY39nLEUDCYkeQfr_8buwT06Zs_OuN8tyLPNGfM4KA3pfa-xWe7pSGiC5JpEOb0EeCXZYKxJb_HyJtOFnL6HSC1wRJZRs_eco1_VmwgbeTBs2BQs70wloqTOWW0y', 'width': 4096}], 'place_id': 'ChIJFQ4RDPJ544kR2Qht2WZ_qFo', 'plus_code': {'compound_code': '8VWR+9C Brookline, Massachusetts', 'global_code': '87JC8VWR+9C'}, 'price_level': 1, 'rating': 4.5, 'reference': 'ChIJFQ4RDPJ544kR2Qht2WZ_qFo', 'types': ['restaurant', 'food', 'point_of_interest', 'establishment'], 'user_ratings_total': 375}\n",
      "{'business_status': 'OPERATIONAL', 'formatted_address': '627 Commonwealth Avenue, Boston, MA 02215, United States', 'geometry': {'location': {'lat': 42.3497048, 'lng': -71.101593}, 'viewport': {'northeast': {'lat': 42.35096122989272, 'lng': -71.10026252010728}, 'southwest': {'lat': 42.34826157010728, 'lng': -71.10296217989271}}}, 'icon': 'https://maps.gstatic.com/mapfiles/place_api/icons/v1/png_71/restaurant-71.png', 'icon_background_color': '#FF9E67', 'icon_mask_base_uri': 'https://maps.gstatic.com/mapfiles/place_api/icons/v2/restaurant_pinlet', 'name': 'Noodle Street', 'opening_hours': {'open_now': False}, 'photos': [{'height': 2080, 'html_attributions': ['<a href=\"https://maps.google.com/maps/contrib/103682946797622493587\">A Google User</a>'], 'photo_reference': 'Aap_uEBq3c_1RHQEhGqyvLsUrBlViuWqyt8JQrbn48nqc_EYmzlQ1ixnNfBd4vAVVe53H6pPJFdqtrL3W7c1VWtj-cOy3Y7b6W3qK6TV9JBjx-GBtlIx3gaS13cHRxQCmAB7Btjkt-T_e0bUmeXz0O5PdPjFV7yioAgPWPthlLRFSW0WP2QU', 'width': 4160}], 'place_id': 'ChIJSxaTZ_d544kRX8eBXH8DhGQ', 'plus_code': {'compound_code': '8VXX+V9 Boston, Massachusetts', 'global_code': '87JC8VXX+V9'}, 'price_level': 2, 'rating': 4.3, 'reference': 'ChIJSxaTZ_d544kRX8eBXH8DhGQ', 'types': ['restaurant', 'food', 'point_of_interest', 'establishment'], 'user_ratings_total': 188}\n",
      "{'business_status': 'OPERATIONAL', 'formatted_address': '725 Commonwealth Avenue, Boston, MA 02215, United States', 'geometry': {'location': {'lat': 42.3502593, 'lng': -71.1057172}, 'viewport': {'northeast': {'lat': 42.35149032989273, 'lng': -71.10442082010728}, 'southwest': {'lat': 42.34879067010728, 'lng': -71.10712047989271}}}, 'icon': 'https://maps.gstatic.com/mapfiles/place_api/icons/v1/png_71/restaurant-71.png', 'icon_background_color': '#FF9E67', 'icon_mask_base_uri': 'https://maps.gstatic.com/mapfiles/place_api/icons/v2/restaurant_pinlet', 'name': 'Einstein Bros. Bagels', 'opening_hours': {'open_now': False}, 'photos': [{'height': 289, 'html_attributions': ['<a href=\"https://maps.google.com/maps/contrib/110109525906281713818\">Einstein Bros Bagels</a>'], 'photo_reference': 'Aap_uECqBpa_dwTVRwBdiXrv2QdmALc8R8xvTEzrGAxMk9KLFPfB_i48Z-Em4UqDXhRtFwDdYXOBnRcq28pRQMEVJSsx0Kk-GcDRm4S6zePmfA-UOrh7rVxTOy7-tSxgioBJ70WXf61IIJAHPvXnSzKJjN229jxSp0zm45b6OxChO17an6zG', 'width': 512}], 'place_id': 'ChIJw0_I4O9544kRVEkl9mgAiDA', 'plus_code': {'compound_code': '9V2V+4P Boston, Massachusetts', 'global_code': '87JC9V2V+4P'}, 'price_level': 1, 'rating': 3.9, 'reference': 'ChIJw0_I4O9544kRVEkl9mgAiDA', 'types': ['bakery', 'cafe', 'restaurant', 'food', 'point_of_interest', 'store', 'establishment'], 'user_ratings_total': 27}\n",
      "{'business_status': 'OPERATIONAL', 'formatted_address': '126 Brookline Ave, Boston, MA 02215, United States', 'geometry': {'location': {'lat': 42.34526109999999, 'lng': -71.1004038}, 'viewport': {'northeast': {'lat': 42.34668347989272, 'lng': -71.09910967010727}, 'southwest': {'lat': 42.34398382010728, 'lng': -71.10180932989272}}}, 'icon': 'https://maps.gstatic.com/mapfiles/place_api/icons/v1/png_71/restaurant-71.png', 'icon_background_color': '#FF9E67', 'icon_mask_base_uri': 'https://maps.gstatic.com/mapfiles/place_api/icons/v2/restaurant_pinlet', 'name': 'Yard House', 'opening_hours': {'open_now': False}, 'photos': [{'height': 4032, 'html_attributions': ['<a href=\"https://maps.google.com/maps/contrib/105779922327070387151\">Paul Coles</a>'], 'photo_reference': 'Aap_uEA4hqZ54Jv_qvZ3LDn8wtBPirGy-TZDC0D8U59vGt5o8JMeUfsUd48uY0P__YewTzkxnw58uNH7LenAe_KQlYOK52PVwBVT0P3ToFn_DhE7qk-N1ff1FCBYyxcEST28tYcojz0t5eBxXBHpaZ18w4tSMB0L8XcTPLQlxvJvMKsEWHTB', 'width': 3024}], 'place_id': 'ChIJqRk3ZPZ544kRy5hmYv2Txzw', 'plus_code': {'compound_code': '8VWX+4R Boston, Massachusetts', 'global_code': '87JC8VWX+4R'}, 'price_level': 2, 'rating': 4.3, 'reference': 'ChIJqRk3ZPZ544kRy5hmYv2Txzw', 'types': ['meal_takeaway', 'bar', 'restaurant', 'food', 'point_of_interest', 'establishment'], 'user_ratings_total': 2850}\n",
      "{'business_status': 'OPERATIONAL', 'formatted_address': '1002 Beacon St, Brookline, MA 02446, United States', 'geometry': {'location': {'lat': 42.34641000000001, 'lng': -71.10704799999999}, 'viewport': {'northeast': {'lat': 42.34765692989272, 'lng': -71.10566432010728}, 'southwest': {'lat': 42.34495727010728, 'lng': -71.10836397989273}}}, 'icon': 'https://maps.gstatic.com/mapfiles/place_api/icons/v1/png_71/restaurant-71.png', 'icon_background_color': '#FF9E67', 'icon_mask_base_uri': 'https://maps.gstatic.com/mapfiles/place_api/icons/v2/restaurant_pinlet', 'name': 'Gyu-Kaku Japanese BBQ', 'opening_hours': {'open_now': False}, 'photos': [{'height': 4000, 'html_attributions': ['<a href=\"https://maps.google.com/maps/contrib/110624676114937903551\">Thanh Luong</a>'], 'photo_reference': 'Aap_uEDTzCETZ21xf68ymFSCz03GcqvuiRiddPCtXmsahPhj9OLAYdR8XTT_wEV2GlgpY4dGrBvbSXv1IRnltphB8E8LoBIwlDXemR-xOTf1Y2hgJF1zRGXu6eQgIEBhzmuq6DMOTz_C7i8iNbiEq8Yo1-lmuFN7PfXWYpL_rGtNphN8IDL9', 'width': 6000}], 'place_id': 'ChIJ9bceiPF544kRzQuACrgS4pA', 'plus_code': {'compound_code': '8VWV+H5 Brookline, Massachusetts', 'global_code': '87JC8VWV+H5'}, 'price_level': 2, 'rating': 4.5, 'reference': 'ChIJ9bceiPF544kRzQuACrgS4pA', 'types': ['bar', 'restaurant', 'food', 'point_of_interest', 'establishment'], 'user_ratings_total': 1414}\n",
      "{'business_status': 'OPERATIONAL', 'formatted_address': '888 Commonwealth Avenue, Boston, MA 02215, United States', 'geometry': {'location': {'lat': 42.3507575, 'lng': -71.1153005}, 'viewport': {'northeast': {'lat': 42.35221382989271, 'lng': -71.11395647010728}, 'southwest': {'lat': 42.34951417010727, 'lng': -71.11665612989272}}}, 'icon': 'https://maps.gstatic.com/mapfiles/place_api/icons/v1/png_71/restaurant-71.png', 'icon_background_color': '#FF9E67', 'icon_mask_base_uri': 'https://maps.gstatic.com/mapfiles/place_api/icons/v2/restaurant_pinlet', 'name': 'Life Alive Organic Cafe', 'opening_hours': {'open_now': False}, 'photos': [{'height': 1894, 'html_attributions': ['<a href=\"https://maps.google.com/maps/contrib/102759449397678955924\">A Google User</a>'], 'photo_reference': 'Aap_uEA1tqDphdAzBAxtbtoLFX9jMlIPtMCr77BwSdr9IWfoKyfHuXZPvSVkMM_9LGnA3mdclhFQOkhplyramnPHxOgXqQCrCDsrPFegq-ZimVxcFh_pH-aWuMMg7SZS_HtR50LGSzjp6kqp5hkWR6EHz1mRgMWjr0IK6IemX_iimrE2MWof', 'width': 2841}], 'place_id': 'ChIJq-Aoqkt544kRtb6cAR7zCSA', 'plus_code': {'compound_code': '9V2M+8V Boston, Massachusetts', 'global_code': '87JC9V2M+8V'}, 'price_level': 1, 'rating': 4.6, 'reference': 'ChIJq-Aoqkt544kRtb6cAR7zCSA', 'types': ['restaurant', 'food', 'point_of_interest', 'establishment'], 'user_ratings_total': 304}\n",
      "{'business_status': 'OPERATIONAL', 'formatted_address': '132 Brookline Ave, Boston, MA 02215, United States', 'geometry': {'location': {'lat': 42.345046, 'lng': -71.10059269999999}, 'viewport': {'northeast': {'lat': 42.34645202989272, 'lng': -71.09928817010727}, 'southwest': {'lat': 42.34375237010727, 'lng': -71.10198782989272}}}, 'icon': 'https://maps.gstatic.com/mapfiles/place_api/icons/v1/png_71/restaurant-71.png', 'icon_background_color': '#FF9E67', 'icon_mask_base_uri': 'https://maps.gstatic.com/mapfiles/place_api/icons/v2/restaurant_pinlet', 'name': 'Wahlburgers', 'opening_hours': {'open_now': False}, 'photos': [{'height': 5312, 'html_attributions': ['<a href=\"https://maps.google.com/maps/contrib/115376298989482798430\">A Google User</a>'], 'photo_reference': 'Aap_uECbPrwiBo-INQzqOvWUEpRt_ljUW3mB337tRyM4THGiDkE2wK_J7PRTF_nvBOMVXdJCQAz---VGET3t0WsIhx7VH8iZ3z_HK6w36mkWlUuvQK8aLSsHecDLDJJzJlVAEUGWhnCNysG839QoTIEzte-cpGQMniFzs5jjMO2XgU9EjJ29', 'width': 2988}], 'place_id': 'ChIJ__r0K_R544kRnN2P42qNp6E', 'plus_code': {'compound_code': '8VWX+2Q Boston, Massachusetts', 'global_code': '87JC8VWX+2Q'}, 'price_level': 2, 'rating': 4.3, 'reference': 'ChIJ__r0K_R544kRnN2P42qNp6E', 'types': ['bar', 'restaurant', 'food', 'point_of_interest', 'establishment'], 'user_ratings_total': 3528}\n",
      "{'business_status': 'OPERATIONAL', 'formatted_address': '775 Commonwealth Avenue, Boston, MA 02215, United States', 'geometry': {'location': {'lat': 42.3509178, 'lng': -71.1089509}, 'viewport': {'northeast': {'lat': 42.35201942989272, 'lng': -71.10763977010728}, 'southwest': {'lat': 42.34931977010728, 'lng': -71.11033942989272}}}, 'icon': 'https://maps.gstatic.com/mapfiles/place_api/icons/v1/png_71/restaurant-71.png', 'icon_background_color': '#FF9E67', 'icon_mask_base_uri': 'https://maps.gstatic.com/mapfiles/place_api/icons/v2/restaurant_pinlet', 'name': 'Panda Express', 'opening_hours': {'open_now': False}, 'photos': [{'height': 1205, 'html_attributions': ['<a href=\"https://maps.google.com/maps/contrib/105944563332349320547\">Silvano Crespi</a>'], 'photo_reference': 'Aap_uEDP_tiKVRY-VQNUfPv7RWPrjxz275zXcIBguESRgWpPqOpg0xjkINkwYebhfSFbJpd6Z_kdz3UbIhqPmhvFx2RMhjuINRj468QlU_fUatgE3Tuewqx8737fcFkW5RfO0gRmYFoHK9X-Ww9-HLOb65r9jrdRmdcB9XkeDZeZva83Vncn', 'width': 1494}], 'place_id': 'ChIJAAAAAAAAAAAR_tDcTeRFMlQ', 'plus_code': {'compound_code': '9V2R+9C Boston, Massachusetts', 'global_code': '87JC9V2R+9C'}, 'price_level': 1, 'rating': 3.9, 'reference': 'ChIJAAAAAAAAAAAR_tDcTeRFMlQ', 'types': ['meal_takeaway', 'restaurant', 'food', 'point_of_interest', 'establishment'], 'user_ratings_total': 95}\n",
      "{'business_status': 'OPERATIONAL', 'formatted_address': '949 Commonwealth Avenue, Boston, MA 02215, United States', 'geometry': {'location': {'lat': 42.35173, 'lng': -71.11868}, 'viewport': {'northeast': {'lat': 42.35299892989272, 'lng': -71.11735162010727}, 'southwest': {'lat': 42.35029927010728, 'lng': -71.12005127989272}}}, 'icon': 'https://maps.gstatic.com/mapfiles/place_api/icons/v1/png_71/restaurant-71.png', 'icon_background_color': '#FF9E67', 'icon_mask_base_uri': 'https://maps.gstatic.com/mapfiles/place_api/icons/v2/restaurant_pinlet', 'name': \"Raising Cane's Chicken Fingers\", 'opening_hours': {'open_now': False}, 'photos': [{'height': 1152, 'html_attributions': ['<a href=\"https://maps.google.com/maps/contrib/102149793112333782936\">Richard Chau</a>'], 'photo_reference': 'Aap_uEALqNIGDAXXwkSCSP7ZFJQ2jBT7E7Pm1XQwZyGwKyQff67loIpC-NTaXJjSThlMK844HdZShOImSiywllBHCv06WpstOS4jBHIqilYfGEvB2KpDK3x_Q97MoYFK-qPjkPgRhhCPBLa6UdIRWIIZ9BjbvErpNKqxjmF-PnUqzGI5XbZ3', 'width': 2048}], 'place_id': 'ChIJgd56Xeh544kRBxi8R-V-CKs', 'plus_code': {'compound_code': '9V2J+MG Boston, Massachusetts', 'global_code': '87JC9V2J+MG'}, 'price_level': 1, 'rating': 4.5, 'reference': 'ChIJgd56Xeh544kRBxi8R-V-CKs', 'types': ['meal_takeaway', 'restaurant', 'food', 'point_of_interest', 'establishment'], 'user_ratings_total': 1649}\n",
      "{'business_status': 'OPERATIONAL', 'formatted_address': '225 Bay State Rd, Boston, MA 02215, United States', 'geometry': {'location': {'lat': 42.3508757, 'lng': -71.1037545}, 'viewport': {'northeast': {'lat': 42.35213722989273, 'lng': -71.10247142010728}, 'southwest': {'lat': 42.34943757010728, 'lng': -71.10517107989271}}}, 'icon': 'https://maps.gstatic.com/mapfiles/place_api/icons/v1/png_71/bar-71.png', 'icon_background_color': '#FF9E67', 'icon_mask_base_uri': 'https://maps.gstatic.com/mapfiles/place_api/icons/v2/bar_pinlet', 'name': \"Fuller's BU Pub\", 'opening_hours': {'open_now': False}, 'photos': [{'height': 4032, 'html_attributions': ['<a href=\"https://maps.google.com/maps/contrib/113085534785556042459\">Swapnil Kinattumkara</a>'], 'photo_reference': 'Aap_uEDH2L1CKFMeUUth2Ctlc31JDu_hlCLskER5st5wowiAJx7rDGaeMsH26ikrd-Q3VdnFa0Uq0O9bEftT9-tqyplEM8nU6ArBJPPUiElOpvI4xp5yiP8DXd9PftLhjPZVnbP42Ks-GEbhfQeL3KuspCax-F6qUrhVxMwp1nHA3f9bDg21', 'width': 3024}], 'place_id': 'ChIJvYqsBvp544kR3_CAkL3NsHY', 'plus_code': {'compound_code': '9V2W+9F Boston, Massachusetts', 'global_code': '87JC9V2W+9F'}, 'price_level': 1, 'rating': 4.5, 'reference': 'ChIJvYqsBvp544kR3_CAkL3NsHY', 'types': ['bar', 'point_of_interest', 'establishment'], 'user_ratings_total': 96}\n",
      "{'business_status': 'OPERATIONAL', 'formatted_address': '888 Commonwealth Avenue, Boston, MA 02446, United States', 'geometry': {'location': {'lat': 42.35075339999999, 'lng': -71.1151391}, 'viewport': {'northeast': {'lat': 42.35181542989272, 'lng': -71.11373042010727}, 'southwest': {'lat': 42.34911577010728, 'lng': -71.11643007989272}}}, 'icon': 'https://maps.gstatic.com/mapfiles/place_api/icons/v1/png_71/restaurant-71.png', 'icon_background_color': '#FF9E67', 'icon_mask_base_uri': 'https://maps.gstatic.com/mapfiles/place_api/icons/v2/restaurant_pinlet', 'name': 'OTTO', 'opening_hours': {'open_now': False}, 'photos': [{'height': 3024, 'html_attributions': ['<a href=\"https://maps.google.com/maps/contrib/103747563458356424441\">Jamie Baldanza</a>'], 'photo_reference': 'Aap_uEDlKfe4V9CGHR-DAx-YVB4xWTxLArgOuy14l9giqHHjLsVGuRuI40rBzYai4j_orTK-NMpkVLlsOdFK6XWQySjXvGPA6OqjmP4wDBvMu7Zp-8VLo7EK5NlSWbBEjIhGJIa6lgJ_RTfcxU7p-_3f3EQwfscYPjMrx1WqELqGfuAik8Ir', 'width': 4032}], 'place_id': 'ChIJMeBJwr9544kR64QG0Z9KdAI', 'plus_code': {'compound_code': '9V2M+8W Boston, Massachusetts', 'global_code': '87JC9V2M+8W'}, 'price_level': 2, 'rating': 4.3, 'reference': 'ChIJMeBJwr9544kR64QG0Z9KdAI', 'types': ['restaurant', 'food', 'point_of_interest', 'establishment'], 'user_ratings_total': 375}\n",
      "{'business_status': 'OPERATIONAL', 'formatted_address': 'Second Floor, 318 Harvard St Ste 38 & 39, Brookline, MA 02446, United States', 'geometry': {'location': {'lat': 42.3432045, 'lng': -71.1234802}, 'viewport': {'northeast': {'lat': 42.34465907989271, 'lng': -71.12205712010729}, 'southwest': {'lat': 42.34195942010727, 'lng': -71.12475677989272}}}, 'icon': 'https://maps.gstatic.com/mapfiles/place_api/icons/v1/png_71/restaurant-71.png', 'icon_background_color': '#FF9E67', 'icon_mask_base_uri': 'https://maps.gstatic.com/mapfiles/place_api/icons/v2/restaurant_pinlet', 'name': 'Cobble', 'opening_hours': {'open_now': False}, 'photos': [{'height': 1600, 'html_attributions': ['<a href=\"https://maps.google.com/maps/contrib/114772045798239410796\">A Google User</a>'], 'photo_reference': 'Aap_uEDgtQHQG42r3GD_MX3bhvLggofMIqyGbWjSOlEOSmwvo_Iuc3kYfrfFiM2YtWnJ8HOnPwsRMQZk-mhdPO8qwDKM8Jw8HmAPFBJr9uKzy0OA2kSphWMNHNoU-qpvZeK_dSAbFLj8kA1EddfCrDFpq2yiYATrgtyll0FCmaVrZ-jEM_XG', 'width': 1600}], 'place_id': 'ChIJ4ZMnUhF544kRk17vQoB09Y0', 'plus_code': {'compound_code': '8VVG+7J Brookline, Massachusetts', 'global_code': '87JC8VVG+7J'}, 'rating': 5, 'reference': 'ChIJ4ZMnUhF544kRk17vQoB09Y0', 'types': ['restaurant', 'food', 'point_of_interest', 'establishment'], 'user_ratings_total': 22}\n",
      "{'business_status': 'OPERATIONAL', 'formatted_address': '914A Beacon St, Boston, MA 02215, United States', 'geometry': {'location': {'lat': 42.3466333, 'lng': -71.1062389}, 'viewport': {'northeast': {'lat': 42.34788847989272, 'lng': -71.10482672010728}, 'southwest': {'lat': 42.34518882010727, 'lng': -71.10752637989272}}}, 'icon': 'https://maps.gstatic.com/mapfiles/place_api/icons/v1/png_71/restaurant-71.png', 'icon_background_color': '#FF9E67', 'icon_mask_base_uri': 'https://maps.gstatic.com/mapfiles/place_api/icons/v2/restaurant_pinlet', 'name': 'Sol Azteca', 'opening_hours': {'open_now': False}, 'photos': [{'height': 2702, 'html_attributions': ['<a href=\"https://maps.google.com/maps/contrib/116117816434821609950\">Ryan Carty</a>'], 'photo_reference': 'Aap_uEAFfaHeufBxuj8ol4ANqrlQSMq6xWdbFNz-qKyp-T8UcwbNbblFcd09DqM7TfC4nAtDD5w0lLatWYsXgtsPacJNIaKquZT5vKP6cFMRI-USEybwI6gX_J7n6d-UCU1KZpa9Gtug5ujv4m1izzK8mKKXeIkm7_TDIdozV1TQ5FiOjh9c', 'width': 3603}], 'place_id': 'ChIJeQVjgvF544kRFcm0SSly2pc', 'plus_code': {'compound_code': '8VWV+MG Boston, Massachusetts', 'global_code': '87JC8VWV+MG'}, 'price_level': 2, 'rating': 4.4, 'reference': 'ChIJeQVjgvF544kRFcm0SSly2pc', 'types': ['restaurant', 'food', 'point_of_interest', 'establishment'], 'user_ratings_total': 332}\n"
     ]
    }
   ],
   "source": [
    "for key in response_data['results']:\n",
    "    print(key)"
   ]
  },
  {
   "cell_type": "code",
   "execution_count": 21,
   "id": "605f5931",
   "metadata": {},
   "outputs": [
    {
     "name": "stdout",
     "output_type": "stream",
     "text": [
      "{'business_status': 'OPERATIONAL', 'formatted_address': '712 Commonwealth Avenue, Boston, MA 02215, United States', 'geometry': {'location': {'lat': 42.3495484, 'lng': -71.1055686}, 'viewport': {'northeast': {'lat': 42.35089822989272, 'lng': -71.10421877010728}, 'southwest': {'lat': 42.34819857010728, 'lng': -71.10691842989272}}}, 'icon': 'https://maps.gstatic.com/mapfiles/place_api/icons/v1/png_71/restaurant-71.png', 'icon_background_color': '#FF9E67', 'icon_mask_base_uri': 'https://maps.gstatic.com/mapfiles/place_api/icons/v2/restaurant_pinlet', 'name': 'University grill & pizza', 'opening_hours': {'open_now': False}, 'photos': [{'height': 3264, 'html_attributions': ['<a href=\"https://maps.google.com/maps/contrib/113218831869395214706\">M Burnett</a>'], 'photo_reference': 'Aap_uEDa_SzXYvvpLxiMrdi3nbMUGJ27In-RIFnth_bOcA2t4Z9RQQn2_njIMQa9jZbpSMwUgLs6CbF33bqc9ZWHIs2iV15S7j4XxM8dshv62cMQdZwhrVAtUzZBUCHZoUXutZwHnFA2awhHn1P2SZKBcv5MQoGrbVp0O0NqvvqPBJpKz15v', 'width': 2448}], 'place_id': 'ChIJgTVA8vB544kRFbGEuIa0QSg', 'plus_code': {'compound_code': '8VXV+RQ Boston, Massachusetts', 'global_code': '87JC8VXV+RQ'}, 'price_level': 1, 'rating': 4.5, 'reference': 'ChIJgTVA8vB544kRFbGEuIa0QSg', 'types': ['restaurant', 'food', 'point_of_interest', 'establishment'], 'user_ratings_total': 78}\n",
      "{'business_status': 'OPERATIONAL', 'formatted_address': '714 Commonwealth Avenue, Boston, MA 02215, United States', 'geometry': {'location': {'lat': 42.3495529, 'lng': -71.1056499}, 'viewport': {'northeast': {'lat': 42.35102162989272, 'lng': -71.10429622010727}, 'southwest': {'lat': 42.34832197010728, 'lng': -71.10699587989272}}}, 'icon': 'https://maps.gstatic.com/mapfiles/place_api/icons/v1/png_71/restaurant-71.png', 'icon_background_color': '#FF9E67', 'icon_mask_base_uri': 'https://maps.gstatic.com/mapfiles/place_api/icons/v2/restaurant_pinlet', 'name': 'Crispy Crepes Cafe', 'opening_hours': {'open_now': False}, 'photos': [{'height': 4032, 'html_attributions': ['<a href=\"https://maps.google.com/maps/contrib/108520664527792800174\">Samara Fair</a>'], 'photo_reference': 'Aap_uECDco0BOH8KflR2fUd_wCZ6xPwDCsSpRCBZsXygT9pKGinRLcwZ6kTNlnrh5b1TEwapg2ZXgy6XGRFuGNuM-lXvs1Iv7ZHgf6qctngScR75WtlaMeWDGWuMf8kH5KVc-rLmQgZ2PVwq6_jzOVYyClNlcYmBeTtr2dnIApCBw3h9EgzL', 'width': 3024}], 'place_id': 'ChIJl1IyCfF544kRX2Sp1p-Hn9U', 'plus_code': {'compound_code': '8VXV+RP Boston, Massachusetts', 'global_code': '87JC8VXV+RP'}, 'rating': 4.6, 'reference': 'ChIJl1IyCfF544kRX2Sp1p-Hn9U', 'types': ['restaurant', 'food', 'point_of_interest', 'establishment'], 'user_ratings_total': 148}\n",
      "{'business_status': 'OPERATIONAL', 'formatted_address': '738 Commonwealth Avenue, Boston, MA 02215, United States', 'geometry': {'location': {'lat': 42.3498222, 'lng': -71.10725}, 'viewport': {'northeast': {'lat': 42.35128572989272, 'lng': -71.10616312010727}, 'southwest': {'lat': 42.34858607010728, 'lng': -71.10886277989272}}}, 'icon': 'https://maps.gstatic.com/mapfiles/place_api/icons/v1/png_71/restaurant-71.png', 'icon_background_color': '#FF9E67', 'icon_mask_base_uri': 'https://maps.gstatic.com/mapfiles/place_api/icons/v2/restaurant_pinlet', 'name': 'Nud Pob Thai Cuisine', 'opening_hours': {'open_now': False}, 'photos': [{'height': 2988, 'html_attributions': ['<a href=\"https://maps.google.com/maps/contrib/100802463526204963220\">Jane N.</a>'], 'photo_reference': 'Aap_uEBswHliGvQFgyOOxC0JibXkHSdWhaC2M6kDzMpDvdUoK6GlX9zXS-bRuz8XN8ZxXYONNHB_I7mCQ_QL35sHw0rUsSUNyFxMrdZM9rpjwGEdXghpYEJlUnct-s27iCorFfCjIZqOQ6CF0MQZR8O6bc6bS3nJ4aZKyddhWNbQUznD1WJl', 'width': 5312}], 'place_id': 'ChIJGYDqsqt544kRhKLfnWjBCYU', 'plus_code': {'compound_code': '8VXV+W4 Boston, Massachusetts', 'global_code': '87JC8VXV+W4'}, 'rating': 4.4, 'reference': 'ChIJGYDqsqt544kRhKLfnWjBCYU', 'types': ['restaurant', 'food', 'point_of_interest', 'establishment'], 'user_ratings_total': 270}\n",
      "{'business_status': 'OPERATIONAL', 'formatted_address': '838 Beacon St, Boston, MA 02215, United States', 'geometry': {'location': {'lat': 42.3474079, 'lng': -71.1031816}, 'viewport': {'northeast': {'lat': 42.34867217989272, 'lng': -71.10178342010728}, 'southwest': {'lat': 42.34597252010728, 'lng': -71.10448307989273}}}, 'icon': 'https://maps.gstatic.com/mapfiles/place_api/icons/v1/png_71/bar-71.png', 'icon_background_color': '#FF9E67', 'icon_mask_base_uri': 'https://maps.gstatic.com/mapfiles/place_api/icons/v2/bar_pinlet', 'name': 'Audubon', 'opening_hours': {'open_now': False}, 'photos': [{'height': 4032, 'html_attributions': ['<a href=\"https://maps.google.com/maps/contrib/104406335494892393933\">Michel Hilani</a>'], 'photo_reference': 'Aap_uEAO-9vpxfmSX-Py0ThP45jJgWxcc4I01altx39tgaBFMMdSJ2T6oDd3ZNPbq1KGsTRnV5bbEhNPSxf5KFoQ6epSdiQVNMh0aWjMy0UvtF7RtQkLoNEgY7p02r527qvvCBrFnwdMPpUvQH0knkTfaZ0qOdS-OitHI0SmMy1SnIdMGWhN', 'width': 3024}], 'place_id': 'ChIJDaJJzfZ544kRnon1_FQE2cg', 'plus_code': {'compound_code': '8VWW+XP Boston, Massachusetts', 'global_code': '87JC8VWW+XP'}, 'price_level': 2, 'rating': 4.6, 'reference': 'ChIJDaJJzfZ544kRnon1_FQE2cg', 'types': ['bar', 'restaurant', 'food', 'point_of_interest', 'establishment'], 'user_ratings_total': 503}\n",
      "{'business_status': 'OPERATIONAL', 'formatted_address': '508-512 Park Dr, Boston, MA 02115, United States', 'geometry': {'location': {'lat': 42.3475537, 'lng': -71.10585979999999}, 'viewport': {'northeast': {'lat': 42.34886562989273, 'lng': -71.10446257010726}, 'southwest': {'lat': 42.34616597010728, 'lng': -71.10716222989271}}}, 'icon': 'https://maps.gstatic.com/mapfiles/place_api/icons/v1/png_71/restaurant-71.png', 'icon_background_color': '#FF9E67', 'icon_mask_base_uri': 'https://maps.gstatic.com/mapfiles/place_api/icons/v2/restaurant_pinlet', 'name': 'Futago Udon', 'opening_hours': {'open_now': False}, 'photos': [{'height': 4032, 'html_attributions': ['<a href=\"https://maps.google.com/maps/contrib/110674127243864444052\">Michael Kit</a>'], 'photo_reference': 'Aap_uED7IqzT9_QF7ehpUnNRH39YU5iqNI1PDjUWhvfe5CEzyF2_WQj5VadVjFZ-GPfShcV5zt0TqiFvipnSSTkOX7OOTE_7IlE9bWwvp2khjvgsuH8L1fm7pVrm815pwJG0_dh9bngnqGaLYumoDUpWO8YrZHwWrAJLIALgMsIWyLwwe7UE', 'width': 3024}], 'place_id': 'ChIJsXnAniB544kR43kTP2r7tWA', 'plus_code': {'compound_code': '8VXV+2M Boston, Massachusetts', 'global_code': '87JC8VXV+2M'}, 'rating': 4.5, 'reference': 'ChIJsXnAniB544kR43kTP2r7tWA', 'types': ['restaurant', 'food', 'point_of_interest', 'establishment'], 'user_ratings_total': 239}\n",
      "{'business_status': 'OPERATIONAL', 'formatted_address': '736 Commonwealth Avenue, Boston, MA 02215, United States', 'geometry': {'location': {'lat': 42.3497931, 'lng': -71.1071908}, 'viewport': {'northeast': {'lat': 42.35123367989272, 'lng': -71.10581652010728}, 'southwest': {'lat': 42.34853402010727, 'lng': -71.10851617989272}}}, 'icon': 'https://maps.gstatic.com/mapfiles/place_api/icons/v1/png_71/cafe-71.png', 'icon_background_color': '#FF9E67', 'icon_mask_base_uri': 'https://maps.gstatic.com/mapfiles/place_api/icons/v2/cafe_pinlet', 'name': 'Pavement Coffeehouse', 'opening_hours': {'open_now': False}, 'photos': [{'height': 4032, 'html_attributions': ['<a href=\"https://maps.google.com/maps/contrib/105238915857218070158\">Nikolai</a>'], 'photo_reference': 'Aap_uEAHeJLhbpCoozoIFMZls8lT75u4xKbNrdzbenVYzwl1yeoA27T0shUUd-ZpnRnouHtj5p_IZaZ0Xflgf_Va3-K2h4c6W00ItGf9fkGqfyDd4B8gZYFOXbHXCDXaxnbI5K-nhs--Yq4Inyx-9bY15UVXTyj_M3kBgTqPtYJ-a0wVDRma', 'width': 3024}], 'place_id': 'ChIJT7gqZvB544kR3FwgPBKKn5Q', 'plus_code': {'compound_code': '8VXV+W4 Boston, Massachusetts', 'global_code': '87JC8VXV+W4'}, 'price_level': 2, 'rating': 4.2, 'reference': 'ChIJT7gqZvB544kR3FwgPBKKn5Q', 'types': ['bakery', 'meal_takeaway', 'cafe', 'restaurant', 'food', 'point_of_interest', 'store', 'establishment'], 'user_ratings_total': 282}\n",
      "{'business_status': 'OPERATIONAL', 'formatted_address': '900 Beacon St, Boston, MA 02215, United States', 'geometry': {'location': {'lat': 42.346813, 'lng': -71.105705}, 'viewport': {'northeast': {'lat': 42.34804472989272, 'lng': -71.10432497010727}, 'southwest': {'lat': 42.34534507010728, 'lng': -71.10702462989272}}}, 'icon': 'https://maps.gstatic.com/mapfiles/place_api/icons/v1/png_71/restaurant-71.png', 'icon_background_color': '#FF9E67', 'icon_mask_base_uri': 'https://maps.gstatic.com/mapfiles/place_api/icons/v2/restaurant_pinlet', 'name': 'Cafe Landwer', 'opening_hours': {'open_now': False}, 'photos': [{'height': 4032, 'html_attributions': ['<a href=\"https://maps.google.com/maps/contrib/102978945618364553486\">Shannon Courage</a>'], 'photo_reference': 'Aap_uEBLas62hs5_RDSjmCrcleDXi9nAQi1t2ffBMqRzNb0yz2mjHT0hryXqIgxMttpo0WZsGsWjUI5mREbxfHV_SxCuqqksGqsJsNrMEL_fk6Mznz4zCqxHVudNhIRbe958QQ_D_PPASOpJ2qd9MB0DOndtg9x9Q2ci278-e_wCmrR5S6UT', 'width': 3024}], 'place_id': 'ChIJR_2acPF544kRpR9oUzDtxWo', 'plus_code': {'compound_code': '8VWV+PP Boston, Massachusetts', 'global_code': '87JC8VWV+PP'}, 'price_level': 2, 'rating': 4.4, 'reference': 'ChIJR_2acPF544kRpR9oUzDtxWo', 'types': ['restaurant', 'food', 'point_of_interest', 'establishment'], 'user_ratings_total': 721}\n",
      "{'business_status': 'OPERATIONAL', 'formatted_address': '1046 Beacon St, Brookline, MA 02446, United States', 'geometry': {'location': {'lat': 42.3459446, 'lng': -71.1089342}, 'viewport': {'northeast': {'lat': 42.34717162989272, 'lng': -71.10753132010727}, 'southwest': {'lat': 42.34447197010728, 'lng': -71.11023097989272}}}, 'icon': 'https://maps.gstatic.com/mapfiles/place_api/icons/v1/png_71/restaurant-71.png', 'icon_background_color': '#FF9E67', 'icon_mask_base_uri': 'https://maps.gstatic.com/mapfiles/place_api/icons/v2/restaurant_pinlet', 'name': 'Busy Bee Restaurant & Diner', 'opening_hours': {'open_now': False}, 'photos': [{'height': 3072, 'html_attributions': ['<a href=\"https://maps.google.com/maps/contrib/104799919760733493151\">Kush Tripathi</a>'], 'photo_reference': 'Aap_uECFnWwU8Il1cqLajS4WiZ-UqHv_cVq4Vn-qvMhshWrTVnTa3N-RzY39nLEUDCYkeQfr_8buwT06Zs_OuN8tyLPNGfM4KA3pfa-xWe7pSGiC5JpEOb0EeCXZYKxJb_HyJtOFnL6HSC1wRJZRs_eco1_VmwgbeTBs2BQs70wloqTOWW0y', 'width': 4096}], 'place_id': 'ChIJFQ4RDPJ544kR2Qht2WZ_qFo', 'plus_code': {'compound_code': '8VWR+9C Brookline, Massachusetts', 'global_code': '87JC8VWR+9C'}, 'price_level': 1, 'rating': 4.5, 'reference': 'ChIJFQ4RDPJ544kR2Qht2WZ_qFo', 'types': ['restaurant', 'food', 'point_of_interest', 'establishment'], 'user_ratings_total': 375}\n",
      "{'business_status': 'OPERATIONAL', 'formatted_address': '627 Commonwealth Avenue, Boston, MA 02215, United States', 'geometry': {'location': {'lat': 42.3497048, 'lng': -71.101593}, 'viewport': {'northeast': {'lat': 42.35096122989272, 'lng': -71.10026252010728}, 'southwest': {'lat': 42.34826157010728, 'lng': -71.10296217989271}}}, 'icon': 'https://maps.gstatic.com/mapfiles/place_api/icons/v1/png_71/restaurant-71.png', 'icon_background_color': '#FF9E67', 'icon_mask_base_uri': 'https://maps.gstatic.com/mapfiles/place_api/icons/v2/restaurant_pinlet', 'name': 'Noodle Street', 'opening_hours': {'open_now': False}, 'photos': [{'height': 2080, 'html_attributions': ['<a href=\"https://maps.google.com/maps/contrib/103682946797622493587\">A Google User</a>'], 'photo_reference': 'Aap_uEBq3c_1RHQEhGqyvLsUrBlViuWqyt8JQrbn48nqc_EYmzlQ1ixnNfBd4vAVVe53H6pPJFdqtrL3W7c1VWtj-cOy3Y7b6W3qK6TV9JBjx-GBtlIx3gaS13cHRxQCmAB7Btjkt-T_e0bUmeXz0O5PdPjFV7yioAgPWPthlLRFSW0WP2QU', 'width': 4160}], 'place_id': 'ChIJSxaTZ_d544kRX8eBXH8DhGQ', 'plus_code': {'compound_code': '8VXX+V9 Boston, Massachusetts', 'global_code': '87JC8VXX+V9'}, 'price_level': 2, 'rating': 4.3, 'reference': 'ChIJSxaTZ_d544kRX8eBXH8DhGQ', 'types': ['restaurant', 'food', 'point_of_interest', 'establishment'], 'user_ratings_total': 188}\n",
      "{'business_status': 'OPERATIONAL', 'formatted_address': '725 Commonwealth Avenue, Boston, MA 02215, United States', 'geometry': {'location': {'lat': 42.3502593, 'lng': -71.1057172}, 'viewport': {'northeast': {'lat': 42.35149032989273, 'lng': -71.10442082010728}, 'southwest': {'lat': 42.34879067010728, 'lng': -71.10712047989271}}}, 'icon': 'https://maps.gstatic.com/mapfiles/place_api/icons/v1/png_71/restaurant-71.png', 'icon_background_color': '#FF9E67', 'icon_mask_base_uri': 'https://maps.gstatic.com/mapfiles/place_api/icons/v2/restaurant_pinlet', 'name': 'Einstein Bros. Bagels', 'opening_hours': {'open_now': False}, 'photos': [{'height': 289, 'html_attributions': ['<a href=\"https://maps.google.com/maps/contrib/110109525906281713818\">Einstein Bros Bagels</a>'], 'photo_reference': 'Aap_uECqBpa_dwTVRwBdiXrv2QdmALc8R8xvTEzrGAxMk9KLFPfB_i48Z-Em4UqDXhRtFwDdYXOBnRcq28pRQMEVJSsx0Kk-GcDRm4S6zePmfA-UOrh7rVxTOy7-tSxgioBJ70WXf61IIJAHPvXnSzKJjN229jxSp0zm45b6OxChO17an6zG', 'width': 512}], 'place_id': 'ChIJw0_I4O9544kRVEkl9mgAiDA', 'plus_code': {'compound_code': '9V2V+4P Boston, Massachusetts', 'global_code': '87JC9V2V+4P'}, 'price_level': 1, 'rating': 3.9, 'reference': 'ChIJw0_I4O9544kRVEkl9mgAiDA', 'types': ['bakery', 'cafe', 'restaurant', 'food', 'point_of_interest', 'store', 'establishment'], 'user_ratings_total': 27}\n",
      "{'business_status': 'OPERATIONAL', 'formatted_address': '126 Brookline Ave, Boston, MA 02215, United States', 'geometry': {'location': {'lat': 42.34526109999999, 'lng': -71.1004038}, 'viewport': {'northeast': {'lat': 42.34668347989272, 'lng': -71.09910967010727}, 'southwest': {'lat': 42.34398382010728, 'lng': -71.10180932989272}}}, 'icon': 'https://maps.gstatic.com/mapfiles/place_api/icons/v1/png_71/restaurant-71.png', 'icon_background_color': '#FF9E67', 'icon_mask_base_uri': 'https://maps.gstatic.com/mapfiles/place_api/icons/v2/restaurant_pinlet', 'name': 'Yard House', 'opening_hours': {'open_now': False}, 'photos': [{'height': 4032, 'html_attributions': ['<a href=\"https://maps.google.com/maps/contrib/105779922327070387151\">Paul Coles</a>'], 'photo_reference': 'Aap_uEA4hqZ54Jv_qvZ3LDn8wtBPirGy-TZDC0D8U59vGt5o8JMeUfsUd48uY0P__YewTzkxnw58uNH7LenAe_KQlYOK52PVwBVT0P3ToFn_DhE7qk-N1ff1FCBYyxcEST28tYcojz0t5eBxXBHpaZ18w4tSMB0L8XcTPLQlxvJvMKsEWHTB', 'width': 3024}], 'place_id': 'ChIJqRk3ZPZ544kRy5hmYv2Txzw', 'plus_code': {'compound_code': '8VWX+4R Boston, Massachusetts', 'global_code': '87JC8VWX+4R'}, 'price_level': 2, 'rating': 4.3, 'reference': 'ChIJqRk3ZPZ544kRy5hmYv2Txzw', 'types': ['meal_takeaway', 'bar', 'restaurant', 'food', 'point_of_interest', 'establishment'], 'user_ratings_total': 2850}\n",
      "{'business_status': 'OPERATIONAL', 'formatted_address': '1002 Beacon St, Brookline, MA 02446, United States', 'geometry': {'location': {'lat': 42.34641000000001, 'lng': -71.10704799999999}, 'viewport': {'northeast': {'lat': 42.34765692989272, 'lng': -71.10566432010728}, 'southwest': {'lat': 42.34495727010728, 'lng': -71.10836397989273}}}, 'icon': 'https://maps.gstatic.com/mapfiles/place_api/icons/v1/png_71/restaurant-71.png', 'icon_background_color': '#FF9E67', 'icon_mask_base_uri': 'https://maps.gstatic.com/mapfiles/place_api/icons/v2/restaurant_pinlet', 'name': 'Gyu-Kaku Japanese BBQ', 'opening_hours': {'open_now': False}, 'photos': [{'height': 4000, 'html_attributions': ['<a href=\"https://maps.google.com/maps/contrib/110624676114937903551\">Thanh Luong</a>'], 'photo_reference': 'Aap_uEDTzCETZ21xf68ymFSCz03GcqvuiRiddPCtXmsahPhj9OLAYdR8XTT_wEV2GlgpY4dGrBvbSXv1IRnltphB8E8LoBIwlDXemR-xOTf1Y2hgJF1zRGXu6eQgIEBhzmuq6DMOTz_C7i8iNbiEq8Yo1-lmuFN7PfXWYpL_rGtNphN8IDL9', 'width': 6000}], 'place_id': 'ChIJ9bceiPF544kRzQuACrgS4pA', 'plus_code': {'compound_code': '8VWV+H5 Brookline, Massachusetts', 'global_code': '87JC8VWV+H5'}, 'price_level': 2, 'rating': 4.5, 'reference': 'ChIJ9bceiPF544kRzQuACrgS4pA', 'types': ['bar', 'restaurant', 'food', 'point_of_interest', 'establishment'], 'user_ratings_total': 1414}\n",
      "{'business_status': 'OPERATIONAL', 'formatted_address': '888 Commonwealth Avenue, Boston, MA 02215, United States', 'geometry': {'location': {'lat': 42.3507575, 'lng': -71.1153005}, 'viewport': {'northeast': {'lat': 42.35221382989271, 'lng': -71.11395647010728}, 'southwest': {'lat': 42.34951417010727, 'lng': -71.11665612989272}}}, 'icon': 'https://maps.gstatic.com/mapfiles/place_api/icons/v1/png_71/restaurant-71.png', 'icon_background_color': '#FF9E67', 'icon_mask_base_uri': 'https://maps.gstatic.com/mapfiles/place_api/icons/v2/restaurant_pinlet', 'name': 'Life Alive Organic Cafe', 'opening_hours': {'open_now': False}, 'photos': [{'height': 1894, 'html_attributions': ['<a href=\"https://maps.google.com/maps/contrib/102759449397678955924\">A Google User</a>'], 'photo_reference': 'Aap_uEA1tqDphdAzBAxtbtoLFX9jMlIPtMCr77BwSdr9IWfoKyfHuXZPvSVkMM_9LGnA3mdclhFQOkhplyramnPHxOgXqQCrCDsrPFegq-ZimVxcFh_pH-aWuMMg7SZS_HtR50LGSzjp6kqp5hkWR6EHz1mRgMWjr0IK6IemX_iimrE2MWof', 'width': 2841}], 'place_id': 'ChIJq-Aoqkt544kRtb6cAR7zCSA', 'plus_code': {'compound_code': '9V2M+8V Boston, Massachusetts', 'global_code': '87JC9V2M+8V'}, 'price_level': 1, 'rating': 4.6, 'reference': 'ChIJq-Aoqkt544kRtb6cAR7zCSA', 'types': ['restaurant', 'food', 'point_of_interest', 'establishment'], 'user_ratings_total': 304}\n",
      "{'business_status': 'OPERATIONAL', 'formatted_address': '132 Brookline Ave, Boston, MA 02215, United States', 'geometry': {'location': {'lat': 42.345046, 'lng': -71.10059269999999}, 'viewport': {'northeast': {'lat': 42.34645202989272, 'lng': -71.09928817010727}, 'southwest': {'lat': 42.34375237010727, 'lng': -71.10198782989272}}}, 'icon': 'https://maps.gstatic.com/mapfiles/place_api/icons/v1/png_71/restaurant-71.png', 'icon_background_color': '#FF9E67', 'icon_mask_base_uri': 'https://maps.gstatic.com/mapfiles/place_api/icons/v2/restaurant_pinlet', 'name': 'Wahlburgers', 'opening_hours': {'open_now': False}, 'photos': [{'height': 5312, 'html_attributions': ['<a href=\"https://maps.google.com/maps/contrib/115376298989482798430\">A Google User</a>'], 'photo_reference': 'Aap_uECbPrwiBo-INQzqOvWUEpRt_ljUW3mB337tRyM4THGiDkE2wK_J7PRTF_nvBOMVXdJCQAz---VGET3t0WsIhx7VH8iZ3z_HK6w36mkWlUuvQK8aLSsHecDLDJJzJlVAEUGWhnCNysG839QoTIEzte-cpGQMniFzs5jjMO2XgU9EjJ29', 'width': 2988}], 'place_id': 'ChIJ__r0K_R544kRnN2P42qNp6E', 'plus_code': {'compound_code': '8VWX+2Q Boston, Massachusetts', 'global_code': '87JC8VWX+2Q'}, 'price_level': 2, 'rating': 4.3, 'reference': 'ChIJ__r0K_R544kRnN2P42qNp6E', 'types': ['bar', 'restaurant', 'food', 'point_of_interest', 'establishment'], 'user_ratings_total': 3528}\n",
      "{'business_status': 'OPERATIONAL', 'formatted_address': '775 Commonwealth Avenue, Boston, MA 02215, United States', 'geometry': {'location': {'lat': 42.3509178, 'lng': -71.1089509}, 'viewport': {'northeast': {'lat': 42.35201942989272, 'lng': -71.10763977010728}, 'southwest': {'lat': 42.34931977010728, 'lng': -71.11033942989272}}}, 'icon': 'https://maps.gstatic.com/mapfiles/place_api/icons/v1/png_71/restaurant-71.png', 'icon_background_color': '#FF9E67', 'icon_mask_base_uri': 'https://maps.gstatic.com/mapfiles/place_api/icons/v2/restaurant_pinlet', 'name': 'Panda Express', 'opening_hours': {'open_now': False}, 'photos': [{'height': 1205, 'html_attributions': ['<a href=\"https://maps.google.com/maps/contrib/105944563332349320547\">Silvano Crespi</a>'], 'photo_reference': 'Aap_uEDP_tiKVRY-VQNUfPv7RWPrjxz275zXcIBguESRgWpPqOpg0xjkINkwYebhfSFbJpd6Z_kdz3UbIhqPmhvFx2RMhjuINRj468QlU_fUatgE3Tuewqx8737fcFkW5RfO0gRmYFoHK9X-Ww9-HLOb65r9jrdRmdcB9XkeDZeZva83Vncn', 'width': 1494}], 'place_id': 'ChIJAAAAAAAAAAAR_tDcTeRFMlQ', 'plus_code': {'compound_code': '9V2R+9C Boston, Massachusetts', 'global_code': '87JC9V2R+9C'}, 'price_level': 1, 'rating': 3.9, 'reference': 'ChIJAAAAAAAAAAAR_tDcTeRFMlQ', 'types': ['meal_takeaway', 'restaurant', 'food', 'point_of_interest', 'establishment'], 'user_ratings_total': 95}\n",
      "{'business_status': 'OPERATIONAL', 'formatted_address': '949 Commonwealth Avenue, Boston, MA 02215, United States', 'geometry': {'location': {'lat': 42.35173, 'lng': -71.11868}, 'viewport': {'northeast': {'lat': 42.35299892989272, 'lng': -71.11735162010727}, 'southwest': {'lat': 42.35029927010728, 'lng': -71.12005127989272}}}, 'icon': 'https://maps.gstatic.com/mapfiles/place_api/icons/v1/png_71/restaurant-71.png', 'icon_background_color': '#FF9E67', 'icon_mask_base_uri': 'https://maps.gstatic.com/mapfiles/place_api/icons/v2/restaurant_pinlet', 'name': \"Raising Cane's Chicken Fingers\", 'opening_hours': {'open_now': False}, 'photos': [{'height': 1152, 'html_attributions': ['<a href=\"https://maps.google.com/maps/contrib/102149793112333782936\">Richard Chau</a>'], 'photo_reference': 'Aap_uEALqNIGDAXXwkSCSP7ZFJQ2jBT7E7Pm1XQwZyGwKyQff67loIpC-NTaXJjSThlMK844HdZShOImSiywllBHCv06WpstOS4jBHIqilYfGEvB2KpDK3x_Q97MoYFK-qPjkPgRhhCPBLa6UdIRWIIZ9BjbvErpNKqxjmF-PnUqzGI5XbZ3', 'width': 2048}], 'place_id': 'ChIJgd56Xeh544kRBxi8R-V-CKs', 'plus_code': {'compound_code': '9V2J+MG Boston, Massachusetts', 'global_code': '87JC9V2J+MG'}, 'price_level': 1, 'rating': 4.5, 'reference': 'ChIJgd56Xeh544kRBxi8R-V-CKs', 'types': ['meal_takeaway', 'restaurant', 'food', 'point_of_interest', 'establishment'], 'user_ratings_total': 1649}\n",
      "{'business_status': 'OPERATIONAL', 'formatted_address': '225 Bay State Rd, Boston, MA 02215, United States', 'geometry': {'location': {'lat': 42.3508757, 'lng': -71.1037545}, 'viewport': {'northeast': {'lat': 42.35213722989273, 'lng': -71.10247142010728}, 'southwest': {'lat': 42.34943757010728, 'lng': -71.10517107989271}}}, 'icon': 'https://maps.gstatic.com/mapfiles/place_api/icons/v1/png_71/bar-71.png', 'icon_background_color': '#FF9E67', 'icon_mask_base_uri': 'https://maps.gstatic.com/mapfiles/place_api/icons/v2/bar_pinlet', 'name': \"Fuller's BU Pub\", 'opening_hours': {'open_now': False}, 'photos': [{'height': 4032, 'html_attributions': ['<a href=\"https://maps.google.com/maps/contrib/113085534785556042459\">Swapnil Kinattumkara</a>'], 'photo_reference': 'Aap_uEDH2L1CKFMeUUth2Ctlc31JDu_hlCLskER5st5wowiAJx7rDGaeMsH26ikrd-Q3VdnFa0Uq0O9bEftT9-tqyplEM8nU6ArBJPPUiElOpvI4xp5yiP8DXd9PftLhjPZVnbP42Ks-GEbhfQeL3KuspCax-F6qUrhVxMwp1nHA3f9bDg21', 'width': 3024}], 'place_id': 'ChIJvYqsBvp544kR3_CAkL3NsHY', 'plus_code': {'compound_code': '9V2W+9F Boston, Massachusetts', 'global_code': '87JC9V2W+9F'}, 'price_level': 1, 'rating': 4.5, 'reference': 'ChIJvYqsBvp544kR3_CAkL3NsHY', 'types': ['bar', 'point_of_interest', 'establishment'], 'user_ratings_total': 96}\n",
      "{'business_status': 'OPERATIONAL', 'formatted_address': '888 Commonwealth Avenue, Boston, MA 02446, United States', 'geometry': {'location': {'lat': 42.35075339999999, 'lng': -71.1151391}, 'viewport': {'northeast': {'lat': 42.35181542989272, 'lng': -71.11373042010727}, 'southwest': {'lat': 42.34911577010728, 'lng': -71.11643007989272}}}, 'icon': 'https://maps.gstatic.com/mapfiles/place_api/icons/v1/png_71/restaurant-71.png', 'icon_background_color': '#FF9E67', 'icon_mask_base_uri': 'https://maps.gstatic.com/mapfiles/place_api/icons/v2/restaurant_pinlet', 'name': 'OTTO', 'opening_hours': {'open_now': False}, 'photos': [{'height': 3024, 'html_attributions': ['<a href=\"https://maps.google.com/maps/contrib/103747563458356424441\">Jamie Baldanza</a>'], 'photo_reference': 'Aap_uEDlKfe4V9CGHR-DAx-YVB4xWTxLArgOuy14l9giqHHjLsVGuRuI40rBzYai4j_orTK-NMpkVLlsOdFK6XWQySjXvGPA6OqjmP4wDBvMu7Zp-8VLo7EK5NlSWbBEjIhGJIa6lgJ_RTfcxU7p-_3f3EQwfscYPjMrx1WqELqGfuAik8Ir', 'width': 4032}], 'place_id': 'ChIJMeBJwr9544kR64QG0Z9KdAI', 'plus_code': {'compound_code': '9V2M+8W Boston, Massachusetts', 'global_code': '87JC9V2M+8W'}, 'price_level': 2, 'rating': 4.3, 'reference': 'ChIJMeBJwr9544kR64QG0Z9KdAI', 'types': ['restaurant', 'food', 'point_of_interest', 'establishment'], 'user_ratings_total': 375}\n",
      "{'business_status': 'OPERATIONAL', 'formatted_address': 'Second Floor, 318 Harvard St Ste 38 & 39, Brookline, MA 02446, United States', 'geometry': {'location': {'lat': 42.3432045, 'lng': -71.1234802}, 'viewport': {'northeast': {'lat': 42.34465907989271, 'lng': -71.12205712010729}, 'southwest': {'lat': 42.34195942010727, 'lng': -71.12475677989272}}}, 'icon': 'https://maps.gstatic.com/mapfiles/place_api/icons/v1/png_71/restaurant-71.png', 'icon_background_color': '#FF9E67', 'icon_mask_base_uri': 'https://maps.gstatic.com/mapfiles/place_api/icons/v2/restaurant_pinlet', 'name': 'Cobble', 'opening_hours': {'open_now': False}, 'photos': [{'height': 1600, 'html_attributions': ['<a href=\"https://maps.google.com/maps/contrib/114772045798239410796\">A Google User</a>'], 'photo_reference': 'Aap_uEDgtQHQG42r3GD_MX3bhvLggofMIqyGbWjSOlEOSmwvo_Iuc3kYfrfFiM2YtWnJ8HOnPwsRMQZk-mhdPO8qwDKM8Jw8HmAPFBJr9uKzy0OA2kSphWMNHNoU-qpvZeK_dSAbFLj8kA1EddfCrDFpq2yiYATrgtyll0FCmaVrZ-jEM_XG', 'width': 1600}], 'place_id': 'ChIJ4ZMnUhF544kRk17vQoB09Y0', 'plus_code': {'compound_code': '8VVG+7J Brookline, Massachusetts', 'global_code': '87JC8VVG+7J'}, 'rating': 5, 'reference': 'ChIJ4ZMnUhF544kRk17vQoB09Y0', 'types': ['restaurant', 'food', 'point_of_interest', 'establishment'], 'user_ratings_total': 22}\n",
      "{'business_status': 'OPERATIONAL', 'formatted_address': '914A Beacon St, Boston, MA 02215, United States', 'geometry': {'location': {'lat': 42.3466333, 'lng': -71.1062389}, 'viewport': {'northeast': {'lat': 42.34788847989272, 'lng': -71.10482672010728}, 'southwest': {'lat': 42.34518882010727, 'lng': -71.10752637989272}}}, 'icon': 'https://maps.gstatic.com/mapfiles/place_api/icons/v1/png_71/restaurant-71.png', 'icon_background_color': '#FF9E67', 'icon_mask_base_uri': 'https://maps.gstatic.com/mapfiles/place_api/icons/v2/restaurant_pinlet', 'name': 'Sol Azteca', 'opening_hours': {'open_now': False}, 'photos': [{'height': 2702, 'html_attributions': ['<a href=\"https://maps.google.com/maps/contrib/116117816434821609950\">Ryan Carty</a>'], 'photo_reference': 'Aap_uEAFfaHeufBxuj8ol4ANqrlQSMq6xWdbFNz-qKyp-T8UcwbNbblFcd09DqM7TfC4nAtDD5w0lLatWYsXgtsPacJNIaKquZT5vKP6cFMRI-USEybwI6gX_J7n6d-UCU1KZpa9Gtug5ujv4m1izzK8mKKXeIkm7_TDIdozV1TQ5FiOjh9c', 'width': 3603}], 'place_id': 'ChIJeQVjgvF544kRFcm0SSly2pc', 'plus_code': {'compound_code': '8VWV+MG Boston, Massachusetts', 'global_code': '87JC8VWV+MG'}, 'price_level': 2, 'rating': 4.4, 'reference': 'ChIJeQVjgvF544kRFcm0SSly2pc', 'types': ['restaurant', 'food', 'point_of_interest', 'establishment'], 'user_ratings_total': 332}\n"
     ]
    }
   ],
   "source": [
    "\n",
    "for i in range(len(response_data['results'])):\n",
    "    restaurant = response_data['results'][i]\n",
    "    "
   ]
  },
  {
   "cell_type": "code",
   "execution_count": 11,
   "id": "3847e49a",
   "metadata": {},
   "outputs": [],
   "source": [
    "def get_businesses(query,api_key, min_rating=0.0, max_results = 0):\n",
    "    \"\"\"Takes the parameters: query, api_key, min_rating, max_results\n",
    "        query: query parameter is a string ie(\"restaurants near Columbia Univeristy\"\n",
    "        api_key: key used to call the data in Google's Places API\n",
    "        min_rating=: optional argument is an integer including 1.0, 2.0, 3.0 or 4.0 that returns only places with a \n",
    "                    rating greater than min_rating\n",
    "        max_results=: integer that will return maximum of the max_results. ie(20))\"\"\"\n",
    "    import requests\n",
    "    import json\n",
    "    url = \"https://maps.googleapis.com/maps/api/place/textsearch/json?query=%s&key=%s\" %(query, api_key)\n",
    "\n",
    "    try:\n",
    "        response = requests.get(url)\n",
    "        if response.status_code != 200:\n",
    "            print(\"HTTP error\", response.status_code)\n",
    "        else:\n",
    "            try:\n",
    "                response_data = response.json()\n",
    "            except:\n",
    "                print(\"Response not in valid JSON format\")\n",
    "    except:\n",
    "            print(\"Something went wrong with requests.get\")\n",
    "\n",
    "    result = []\n",
    "    for i in range(len(response_data['results'])):\n",
    "        restaurant = response_data['results'][i]\n",
    "        if restaurant['rating'] > min_rating:\n",
    "            name = restaurant['name']\n",
    "            formatted_address = restaurant['formatted_address']\n",
    "            open_now = restaurant['opening_hours']\n",
    "            try:\n",
    "                price_level = restaurant['price_level']\n",
    "            except:\n",
    "                price_level = 'None'\n",
    "            rating = restaurant['rating']\n",
    "\n",
    "            result.append((name, formatted_address, open_now, price_level, rating))\n",
    "\n",
    "    while len(result) < max_results and 'next_page_token' in response_data:\n",
    "        token = response_data['next_page_token']\n",
    "        new_url = \"https://maps.googleapis.com/maps/api/place/textsearch/json?pagetoken=%s&key=%s\" %(token, api_key)\n",
    "\n",
    "        response = requests.get(new_url)     \n",
    "        while response.json().get('status') != 'OK':\n",
    "            from time import sleep\n",
    "            from random import random\n",
    "            sleep(random())\n",
    "            response = requests.get(new_url)\n",
    "        \n",
    "        response_data = response.json()\n",
    "\n",
    "        for i in range(len(response_data['results'])):\n",
    "            restaurant = response_data['results'][i]\n",
    "            if restaurant['rating'] > min_rating:\n",
    "                name = restaurant['name']\n",
    "                formatted_address = restaurant['formatted_address']\n",
    "                open_now = restaurant['opening_hours']\n",
    "                try:\n",
    "                    price_level = restaurant['price_level']\n",
    "                except:\n",
    "                    price_level = 'None'\n",
    "                rating = restaurant['rating']\n",
    "\n",
    "                result.append((name, formatted_address, open_now, price_level, rating))\n",
    "\n",
    "    if max_results > 0 :\n",
    "        return result[:max_results]\n",
    "    else:\n",
    "        return result"
   ]
  },
  {
   "cell_type": "code",
   "execution_count": 16,
   "id": "870f300f",
   "metadata": {},
   "outputs": [
    {
     "data": {
      "text/plain": [
       "[('Community Food & Juice',\n",
       "  '2893 Broadway, New York, NY 10025, United States',\n",
       "  {'open_now': True},\n",
       "  2,\n",
       "  4.3),\n",
       " ('Cafe Du Soleil',\n",
       "  '2723 Broadway, New York, NY 10025, United States',\n",
       "  {'open_now': True},\n",
       "  2,\n",
       "  4.2),\n",
       " ('Junzi Kitchen - Morningside Heights',\n",
       "  '2896 Broadway, Manhattan, NY 10025, United States',\n",
       "  {'open_now': True},\n",
       "  2,\n",
       "  4.3),\n",
       " ('Tartina',\n",
       "  '1034 Amsterdam Ave, New York, NY 10025, United States',\n",
       "  {'open_now': True},\n",
       "  2,\n",
       "  4.4),\n",
       " ('John Jay Dining Hall',\n",
       "  '519 W 114th St, New York, NY 10027, United States',\n",
       "  {'open_now': True},\n",
       "  'None',\n",
       "  4.2),\n",
       " ('Symposium',\n",
       "  '544 W 113th St, New York, NY 10025, United States',\n",
       "  {'open_now': True},\n",
       "  2,\n",
       "  4.2),\n",
       " ('sweetgreen',\n",
       "  '2937 Broadway, New York, NY 10025, United States',\n",
       "  {'open_now': True},\n",
       "  2,\n",
       "  4),\n",
       " ('Massawa',\n",
       "  '1239 Amsterdam Ave, New York, NY 10027, United States',\n",
       "  {'open_now': True},\n",
       "  2,\n",
       "  4.5),\n",
       " ('Le Monde',\n",
       "  '2885 Broadway, New York, NY 10025, United States',\n",
       "  {'open_now': True},\n",
       "  2,\n",
       "  4),\n",
       " ('Strokos Gourmet Deli',\n",
       "  '1090 Amsterdam Ave, New York, NY 10025, United States',\n",
       "  {'open_now': True},\n",
       "  1,\n",
       "  4)]"
      ]
     },
     "execution_count": 16,
     "metadata": {},
     "output_type": "execute_result"
    }
   ],
   "source": [
    "get_businesses('restaurants near Columbia University', api_key, min_rating=3, max_results=10)"
   ]
  },
  {
   "cell_type": "code",
   "execution_count": null,
   "id": "2c0cb657",
   "metadata": {},
   "outputs": [],
   "source": []
  }
 ],
 "metadata": {
  "kernelspec": {
   "display_name": "Python 3 (ipykernel)",
   "language": "python",
   "name": "python3"
  },
  "language_info": {
   "codemirror_mode": {
    "name": "ipython",
    "version": 3
   },
   "file_extension": ".py",
   "mimetype": "text/x-python",
   "name": "python",
   "nbconvert_exporter": "python",
   "pygments_lexer": "ipython3",
   "version": "3.9.13"
  }
 },
 "nbformat": 4,
 "nbformat_minor": 5
}
