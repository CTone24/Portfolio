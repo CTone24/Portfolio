{
 "cells": [
  {
   "cell_type": "markdown",
   "metadata": {},
   "source": [
    "<h1>Citibike Network Assignment</h1>\n",
    "<li>The file, 201809-citibike-tripdata.csv, contains citibike trip data from September 2018 (a reasonable sized file!)\n",
    "<li>The data:<br>\n",
    "\"tripduration\",\"starttime\",\"stoptime\",\"start station id\",\"start station name\",\"start station latitude\",\"start station longitude\",\"end station id\",\"end station name\",\"end station latitude\",\"end station longitude\",\"bikeid\",\"usertype\",\"birth year\",\"gender\"\n",
    "<li>Each record in the data is a trip \n",
    "<li>The data is described at https://www.citibikenyc.com/system-data"
   ]
  },
  {
   "cell_type": "markdown",
   "metadata": {},
   "source": [
    "<h1>STEP 1: Read the data into a dataframe</h1>\n",
    "<li>Convert station ids to str if necessary"
   ]
  },
  {
   "cell_type": "code",
   "execution_count": 1,
   "metadata": {},
   "outputs": [],
   "source": [
    "import pandas as pd\n",
    "import numpy as np\n",
    "datafile = \"201801-citibike-tripdata.csv\"\n",
    "df = pd.read_csv(datafile)\n"
   ]
  },
  {
   "cell_type": "markdown",
   "metadata": {},
   "source": [
    "<h1>STEP 2: Basic cleaning</h1>\n",
    "<li>Remove data that have any nans in any row (none in this file but others do have nans)\n",
    "<li>and convert stationids to str "
   ]
  },
  {
   "cell_type": "code",
   "execution_count": 2,
   "metadata": {},
   "outputs": [
    {
     "data": {
      "text/plain": [
       "tripduration               0\n",
       "starttime                  0\n",
       "stoptime                   0\n",
       "start station id           0\n",
       "start station name         0\n",
       "start station latitude     0\n",
       "start station longitude    0\n",
       "end station id             0\n",
       "end station name           0\n",
       "end station latitude       0\n",
       "end station longitude      0\n",
       "bikeid                     0\n",
       "usertype                   0\n",
       "birth year                 0\n",
       "gender                     0\n",
       "dtype: int64"
      ]
     },
     "execution_count": 2,
     "metadata": {},
     "output_type": "execute_result"
    }
   ],
   "source": [
    "df.isnull().sum()"
   ]
  },
  {
   "cell_type": "code",
   "execution_count": 3,
   "metadata": {},
   "outputs": [],
   "source": [
    "df['start station id'] = df['start station id'].astype(str)\n",
    "df['end station id'] = df['end station id'].astype(str)"
   ]
  },
  {
   "cell_type": "markdown",
   "metadata": {},
   "source": [
    "<h1>STEP 3: Write a function that returns a graph given a citibike data frame</h1> \n",
    "<li>Your function should return two things:\n",
    "<ol>\n",
    "<li>a graph\n",
    "<li>a dictionary with station ids as the key and station name as the value\n",
    "</ol>\n",
    "<li>The graph should contain \n",
    "<ol>\n",
    "<li>nodes (station ids)\n",
    "<li>edges (station id, station id)\n",
    "<li>edge data \n",
    "<ol>\n",
    "<li>count: number of trips on the edge\n",
    "<li>time: average duration - pickup to dropoff - on that edge\n",
    "</ol>\n",
    "</ol>\n",
    "<li><b>Note:</b> the edge (x1,y1) is the same as (y1,x1) even though the start station ids and end station ids are flipped in the dataframe"
   ]
  },
  {
   "cell_type": "code",
   "execution_count": 4,
   "metadata": {},
   "outputs": [],
   "source": [
    "def get_citibike_graph(df):\n",
    "    import networkx as nx\n",
    "    G = nx.Graph()\n",
    "    node_names = dict()\n",
    "    \n",
    "    graph_list = []\n",
    "    for i in range(len(df)):\n",
    "        start = min(df.iloc[i]['start station id'], df.iloc[i]['end station id'])\n",
    "        end = max(df.iloc[i]['start station id'], df.iloc[i]['end station id'])\n",
    "        time = df.iloc[i]['tripduration']\n",
    "        graph_list.append((start, end, time))\n",
    "    \n",
    "    edge = dict()\n",
    "        \n",
    "    for i in range(len(graph_list)):\n",
    "        start = graph_list[i][0]\n",
    "        end = graph_list[i][1]\n",
    "        if (start, end) not in edge:\n",
    "            edge[(start, end)] = {}\n",
    "            edge[(start, end)]['count'] = 1\n",
    "            edge[(start, end)]['sumtime'] = graph_list[i][2]\n",
    "        else:\n",
    "            edge[(start, end)]['count'] += 1\n",
    "            edge[(start, end)]['sumtime'] += graph_list[i][2]\n",
    "    \n",
    "    for i in edge.keys():\n",
    "        start = i[0]\n",
    "        end = i[1]\n",
    "        count = edge[i]['count']\n",
    "        meantime = edge[i]['sumtime']/count\n",
    "        G.add_edge(start, end, trips = count, time = meantime) \n",
    "    \n",
    "    node_names = dict(zip(df['end station id'], df['end station name']))\n",
    " \n",
    "    return G,node_names"
   ]
  },
  {
   "cell_type": "markdown",
   "metadata": {},
   "source": [
    "<h1>STEP 4: Create the following graphs using the function above</h1>\n",
    "<li>G: A graph of all the data in the dataframe\n",
    "<li>m_G: A graph containing only data from male riders\n",
    "<li>f_G: A graph containing only data from female riders\n",
    "<li>Note: for m_G and f_G you will need to extract data from the dataframe"
   ]
  },
  {
   "cell_type": "code",
   "execution_count": null,
   "metadata": {},
   "outputs": [],
   "source": [
    "G,nodes=get_citibike_graph(df)"
   ]
  },
  {
   "cell_type": "code",
   "execution_count": null,
   "metadata": {},
   "outputs": [],
   "source": [
    "m_G,nodes = get_citibike_graph(df.loc[df['gender'] == 1])"
   ]
  },
  {
   "cell_type": "code",
   "execution_count": null,
   "metadata": {},
   "outputs": [],
   "source": [
    "f_G,nodes = get_citibike_graph(df.loc[df['gender'] == 2])"
   ]
  },
  {
   "cell_type": "markdown",
   "metadata": {},
   "source": [
    "<h1>STEP 5: Answer the following questions for each of the graphs</h1>\n",
    "<ol>\n",
    "<li>Which station (name) is the best connected (max degree)?\n",
    "<li>Travel between which pair of stations is the longest in terms of average duration between bike pickups and dropoffs. Report both the two stations as well as the time in minutes\n",
    "<li>Which edge is associated with the most number of trips?\n",
    "<li>Which station is the most central?\n",
    "<li>Which node is a bottleneck node?"
   ]
  },
  {
   "cell_type": "markdown",
   "metadata": {},
   "source": [
    "Which station (name) has the greatest number of connections (max degree)?"
   ]
  },
  {
   "cell_type": "code",
   "execution_count": null,
   "metadata": {},
   "outputs": [],
   "source": [
    "import networkx as nx\n",
    "\n",
    "d=nx.degree(m_G)\n",
    "l=list(d)\n",
    "max(l,key=lambda x: x[1])[0]\n",
    "print(\"Busiest male station: \", nodes[max(l,key=lambda x: x[1])[0]])\n",
    "\n",
    "d=nx.degree(f_G)\n",
    "l=list(d)\n",
    "max(l,key=lambda x: x[1])[0]\n",
    "print(\"Busiest female station: \", nodes[max(l,key=lambda x: x[1])[0]])\n",
    "\n",
    "d=nx.degree(G)\n",
    "l=list(d)\n",
    "max(l,key=lambda x: x[1])[0]\n",
    "\n",
    "print(\"Busiest station: \", nodes[max(l,key=lambda x: x[1])[0]])\n"
   ]
  },
  {
   "cell_type": "markdown",
   "metadata": {},
   "source": [
    "Travel between which pair of stations is the longest in terms of average duration between bike pickups and dropoffs"
   ]
  },
  {
   "cell_type": "code",
   "execution_count": 27,
   "metadata": {},
   "outputs": [
    {
     "name": "stdout",
     "output_type": "stream",
     "text": [
      "Longest average distance males:  Nassau St & Navy St to Hope St & Union Ave\n",
      "Longest average distance females:  Adelphi St & Myrtle Ave to NYCBS Depot - 3AV\n",
      "Longest average distance all:  Nassau St & Navy St to Hope St & Union Ave\n"
     ]
    }
   ],
   "source": [
    "start = sorted(m_G.edges(data=True), key = lambda x: x[2]['time'], reverse = True)[0][0]\n",
    "end = sorted(m_G.edges(data=True), key = lambda x: x[2]['time'], reverse = True)[0][1]\n",
    "print('Longest average distance males: ', nodes[start], 'to', nodes[end])\n",
    "\n",
    "start = sorted(f_G.edges(data=True), key = lambda x: x[2]['time'], reverse = True)[0][0]\n",
    "end = sorted(f_G.edges(data=True), key = lambda x: x[2]['time'], reverse = True)[0][1]\n",
    "print('Longest average distance females: ', nodes[start], 'to', nodes[end])\n",
    "\n",
    "start = sorted(G.edges(data=True), key = lambda x: x[2]['time'], reverse = True)[0][0]\n",
    "end = sorted(G.edges(data=True), key = lambda x: x[2]['time'], reverse = True)[0][1]\n",
    "print('Longest average distance all: ', nodes[start], 'to', nodes[end])"
   ]
  },
  {
   "cell_type": "markdown",
   "metadata": {},
   "source": [
    "Which edge is associated with the most number of trips?"
   ]
  },
  {
   "cell_type": "code",
   "execution_count": 28,
   "metadata": {},
   "outputs": [
    {
     "name": "stdout",
     "output_type": "stream",
     "text": [
      "Longest average distance males:  Cooper Square & Astor Pl to E 7 St & Avenue A\n",
      "Longest average distance females:  E 7 St & Avenue A to Cooper Square & Astor Pl\n",
      "Longest average distance all:  Cooper Square & Astor Pl to E 7 St & Avenue A\n"
     ]
    }
   ],
   "source": [
    "start = sorted(m_G.edges(data=True), key = lambda x: x[2]['trips'], reverse = True)[0][0]\n",
    "end = sorted(m_G.edges(data=True), key = lambda x: x[2]['trips'], reverse = True)[0][1]\n",
    "print('Longest average distance males: ', nodes[start], 'to', nodes[end])\n",
    "\n",
    "start = sorted(f_G.edges(data=True), key = lambda x: x[2]['trips'], reverse = True)[0][0]\n",
    "end = sorted(f_G.edges(data=True), key = lambda x: x[2]['trips'], reverse = True)[0][1]\n",
    "print('Longest average distance females: ', nodes[start], 'to', nodes[end])\n",
    "\n",
    "start = sorted(G.edges(data=True), key = lambda x: x[2]['trips'], reverse = True)[0][0]\n",
    "end = sorted(G.edges(data=True), key = lambda x: x[2]['trips'], reverse = True)[0][1]\n",
    "print('Longest average distance all: ', nodes[start], 'to', nodes[end])"
   ]
  },
  {
   "cell_type": "markdown",
   "metadata": {},
   "source": [
    "<h2>Centrality</h2>\n",
    "One of the concerns that the citibike system has to deal with is ensuring that no station has empty slots (a bike should always be available) and that no station should have no empty slots (you should be able to return a bike). To do this, it needs to monitor the movement of bikes through the system, ideally using a directed graph. Though our graph is not directed, we can look at some network characteristics that will help us answer these questions. Note that the \"trips\" feature in edge data captures flows.\n",
    "<li>Which node is a possible bottleneck node in terms of bike flows?\n",
    "<li>Which node is the \"nearest\" to all other nodes (irrespective of flows)\n",
    "<li>Which node is the \"nearest\" to all other nodes (in terms of distance = time)\n"
   ]
  },
  {
   "cell_type": "code",
   "execution_count": null,
   "metadata": {},
   "outputs": [
    {
     "name": "stdout",
     "output_type": "stream",
     "text": [
      "Results for Graph\n",
      "\n",
      "Most central in connectivity:  Pershing Square North\n",
      "Most central in connectivity using time as distance:  E 4 St & 2 Ave\n",
      "Bottleneck node:  1 Ave & E 62 St\n",
      "\n",
      "Results for Male Graph\n",
      "\n",
      "Most central in connectivity:  Pershing Square North\n",
      "Most central in connectivity using time as distance:  E 2 St & 2 Ave\n",
      "Bottleneck node:  Queens Plaza North & Crescent St\n",
      "\n",
      "Results for Female Graph\n",
      "\n",
      "Most central in connectivity:  Pershing Square North\n",
      "Most central in connectivity using time as distance:  Stanton St & Chrystie St\n"
     ]
    }
   ],
   "source": [
    "from collections import OrderedDict\n",
    "\n",
    "print(\"Results for Graph\")\n",
    "print()\n",
    "c_c = nx.closeness_centrality(G)\n",
    "cc = OrderedDict(sorted(c_c.items(), key = lambda x: x[1], reverse = True))\n",
    "items = list(cc.items())\n",
    "node = items[0][0]\n",
    "    \n",
    "print('Most central in connectivity: ', nodes[node])\n",
    "\n",
    "c_c = nx.closeness_centrality(G, distance = 'time')\n",
    "cc = OrderedDict(sorted(c_c.items(), key = lambda x: x[1], reverse = True))\n",
    "items = list(cc.items())\n",
    "node = items[0][0]\n",
    "\n",
    "print('Most central in connectivity using time as distance: ', nodes[node])\n",
    "\n",
    "b_c = nx.betweenness_centrality(G, weight = 'count')\n",
    "bc = OrderedDict(sorted(b_c.items(), key = lambda x: x[1], reverse = True))\n",
    "items = list(bc.items())\n",
    "node = items[0][0]\n",
    "\n",
    "print('Bottleneck node: ', nodes[node])\n",
    "print()\n",
    "\n",
    "# Male Graph\n",
    "\n",
    "print(\"Results for Male Graph\")\n",
    "print()\n",
    "c_c = nx.closeness_centrality(m_G)\n",
    "cc = OrderedDict(sorted(c_c.items(), key = lambda x: x[1], reverse = True))\n",
    "items = list(cc.items())\n",
    "node = items[0][0]\n",
    "    \n",
    "print('Most central in connectivity: ', nodes[node])\n",
    "\n",
    "c_c = nx.closeness_centrality(m_G, distance = 'time')\n",
    "cc = OrderedDict(sorted(c_c.items(), key = lambda x: x[1], reverse = True))\n",
    "items = list(cc.items())\n",
    "node = items[0][0]\n",
    "\n",
    "print('Most central in connectivity using time as distance: ', nodes[node])\n",
    "\n",
    "b_c = nx.betweenness_centrality(m_G, weight = 'count')\n",
    "bc = OrderedDict(sorted(b_c.items(), key = lambda x: x[1], reverse = True))\n",
    "items = list(bc.items())\n",
    "node = items[0][0]\n",
    "print('Bottleneck node: ', nodes[node])\n",
    "print()\n",
    "\n",
    "# Female Graph\n",
    "\n",
    "print(\"Results for Female Graph\")\n",
    "print()\n",
    "c_c = nx.closeness_centrality(f_G)\n",
    "cc = OrderedDict(sorted(c_c.items(), key = lambda x: x[1], reverse = True))\n",
    "items = list(cc.items())\n",
    "node = items[0][0]\n",
    "    \n",
    "print('Most central in connectivity: ', nodes[node])\n",
    "\n",
    "c_c = nx.closeness_centrality(f_G, distance = 'time')\n",
    "cc = OrderedDict(sorted(c_c.items(), key = lambda x: x[1], reverse = True))\n",
    "items = list(cc.items())\n",
    "node = items[0][0]\n",
    "\n",
    "print('Most central in connectivity using time as distance: ', nodes[node])\n",
    "\n",
    "b_c = nx.betweenness_centrality(f_G, weight = 'count')\n",
    "bc = OrderedDict(sorted(b_c.items(), key = lambda x: x[1], reverse = True))\n",
    "items = list(bc.items())\n",
    "node = items[0][0]\n",
    "print('Bottleneck node: ', nodes[node])\n"
   ]
  },
  {
   "cell_type": "code",
   "execution_count": null,
   "metadata": {},
   "outputs": [],
   "source": []
  }
 ],
 "metadata": {
  "kernelspec": {
   "display_name": "Python 3 (ipykernel)",
   "language": "python",
   "name": "python3"
  },
  "language_info": {
   "codemirror_mode": {
    "name": "ipython",
    "version": 3
   },
   "file_extension": ".py",
   "mimetype": "text/x-python",
   "name": "python",
   "nbconvert_exporter": "python",
   "pygments_lexer": "ipython3",
   "version": "3.8.8"
  }
 },
 "nbformat": 4,
 "nbformat_minor": 2
}
